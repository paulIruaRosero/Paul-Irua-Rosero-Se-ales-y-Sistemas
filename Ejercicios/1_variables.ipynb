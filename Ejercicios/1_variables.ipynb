{
  "nbformat": 4,
  "nbformat_minor": 0,
  "metadata": {
    "colab": {
      "provenance": [],
      "include_colab_link": true
    },
    "kernelspec": {
      "name": "python3",
      "display_name": "Python 3"
    },
    "language_info": {
      "name": "python"
    }
  },
  "cells": [
    {
      "cell_type": "markdown",
      "metadata": {
        "id": "view-in-github",
        "colab_type": "text"
      },
      "source": [
        "<a href=\"https://colab.research.google.com/github/paulIruaRosero/Paul-Irua-Rosero-Se-ales-y-Sistemas/blob/main/Ejercicios/1_variables.ipynb\" target=\"_parent\"><img src=\"https://colab.research.google.com/assets/colab-badge.svg\" alt=\"Open In Colab\"/></a>"
      ]
    },
    {
      "cell_type": "markdown",
      "source": [
        "\n",
        "#Introducción a los cuadernos de Python - Google Colab\n",
        "\n",
        "\n",
        "\n"
      ],
      "metadata": {
        "id": "CY3REa3O8ldU"
      }
    },
    {
      "cell_type": "markdown",
      "source": [
        "En Python, no es necesario declarar el tipo de datos de las variables como en otros lenguajes de programación. Cuando asigna un valor a una variable, Python determina automáticamente su tipo de datos en función del valor asignado. Sin embargo, los tipos de datos básicos en Python son los siguientes:\n",
        "\n",
        "1. Entero (int): representa números enteros sin decimales, como 5, -10 o 0.\n",
        "\n",
        "2. Flotante: representa números con puntos decimales, como 3,14, -2,5 o 0,0.\n",
        "\n",
        "3. Cadena (cadena): representa una secuencia de caracteres entre comillas simples ('') o dobles (\"\"). Por ejemplo, \"¡Hola mundo!\" o 'Python'.\n",
        "\n",
        "4. Booleano (bool): representa Verdadero o Falso. Se utiliza para operaciones lógicas y declaraciones condicionales.\n",
        "\n",
        "5. Lista: representa una colección ordenada de elementos encerrados entre corchetes ([]). Las listas pueden contener elementos de diferentes tipos de datos y son mutables (modificables).\n",
        "\n",
        "6. Tupla: similar a las listas, las tuplas también son colecciones ordenadas de elementos, pero están entre paréntesis (()). Las tuplas son inmutables (no se pueden modificar).\n",
        "\n",
        "7. Diccionario (dict): representa una colección de pares clave-valor encerrados entre llaves ({}). Cada valor está asociado con una clave única, lo que permite una rápida recuperación de los valores.\n",
        "\n",
        "8. Conjunto: representa una colección desordenada de elementos únicos encerrados entre llaves ({}). Los conjuntos son útiles para eliminar valores duplicados y realizar operaciones matemáticas de conjuntos.\n",
        "\n",
        "Estos son los tipos de datos básicos en Python y proporcionan la base para objetos y estructuras de datos más complejos."
      ],
      "metadata": {
        "id": "qePyAGJG8sZF"
      }
    },
    {
      "cell_type": "code",
      "source": [
        "#tipos de datos\n",
        "a = 2  # variable asignada con un valor tipo entero\n",
        "b = a + 3\n",
        "\n",
        "f = 0.176  # variable asignada con un valor tipo flotante\n",
        "\n",
        "condition = True  # tipo booleano\n",
        "\n",
        "s = \"Hello\"  # tipo string"
      ],
      "metadata": {
        "id": "rSWRG-M_9BQr"
      },
      "execution_count": null,
      "outputs": []
    },
    {
      "cell_type": "code",
      "source": [
        "type(a) #type function print the variable type"
      ],
      "metadata": {
        "colab": {
          "base_uri": "https://localhost:8080/"
        },
        "id": "2kGCqjPnAhYg",
        "outputId": "aa0c8ab7-90e0-4fb6-95e5-0a4440e66d08"
      },
      "execution_count": null,
      "outputs": [
        {
          "output_type": "execute_result",
          "data": {
            "text/plain": [
              "int"
            ]
          },
          "metadata": {},
          "execution_count": 2
        }
      ]
    },
    {
      "cell_type": "code",
      "source": [
        "type(b)"
      ],
      "metadata": {
        "colab": {
          "base_uri": "https://localhost:8080/"
        },
        "id": "Jcif8WDhBWJ3",
        "outputId": "b8f6502c-549e-40a9-ae50-a21b8e5fb486"
      },
      "execution_count": null,
      "outputs": [
        {
          "output_type": "execute_result",
          "data": {
            "text/plain": [
              "int"
            ]
          },
          "metadata": {},
          "execution_count": 3
        }
      ]
    },
    {
      "cell_type": "code",
      "source": [
        "type(f)"
      ],
      "metadata": {
        "colab": {
          "base_uri": "https://localhost:8080/"
        },
        "id": "X7UjciSnBAdL",
        "outputId": "3b363f34-144e-4281-df71-0f1ff27fd292"
      },
      "execution_count": null,
      "outputs": [
        {
          "output_type": "execute_result",
          "data": {
            "text/plain": [
              "float"
            ]
          },
          "metadata": {},
          "execution_count": 4
        }
      ]
    },
    {
      "cell_type": "code",
      "source": [
        "type(condition)"
      ],
      "metadata": {
        "colab": {
          "base_uri": "https://localhost:8080/"
        },
        "id": "vPQm2VaBBCni",
        "outputId": "a7006903-451a-4332-a365-b5e189766951"
      },
      "execution_count": null,
      "outputs": [
        {
          "output_type": "execute_result",
          "data": {
            "text/plain": [
              "bool"
            ]
          },
          "metadata": {},
          "execution_count": 6
        }
      ]
    },
    {
      "cell_type": "code",
      "source": [
        "type(s)"
      ],
      "metadata": {
        "colab": {
          "base_uri": "https://localhost:8080/"
        },
        "id": "6TTtTmCkBHNL",
        "outputId": "03271587-6906-4150-f735-20ae42b7522e"
      },
      "execution_count": null,
      "outputs": [
        {
          "output_type": "execute_result",
          "data": {
            "text/plain": [
              "str"
            ]
          },
          "metadata": {},
          "execution_count": 7
        }
      ]
    },
    {
      "cell_type": "markdown",
      "source": [
        "¿Qué pasa si sumamos un entero con un flotante?"
      ],
      "metadata": {
        "id": "nzJTHGf8Bers"
      }
    },
    {
      "cell_type": "code",
      "source": [
        "x = b + f\n",
        "x"
      ],
      "metadata": {
        "colab": {
          "base_uri": "https://localhost:8080/"
        },
        "id": "fxiyqBVlBYrZ",
        "outputId": "604f61ec-3027-4952-8743-a86d052bbbc6"
      },
      "execution_count": null,
      "outputs": [
        {
          "output_type": "execute_result",
          "data": {
            "text/plain": [
              "5.176"
            ]
          },
          "metadata": {},
          "execution_count": 8
        }
      ]
    },
    {
      "cell_type": "code",
      "source": [
        "type(x)"
      ],
      "metadata": {
        "colab": {
          "base_uri": "https://localhost:8080/"
        },
        "id": "n0dSEoBEBbiT",
        "outputId": "46ddc75f-4c60-4106-898a-dc5fe11ec955"
      },
      "execution_count": null,
      "outputs": [
        {
          "output_type": "execute_result",
          "data": {
            "text/plain": [
              "float"
            ]
          },
          "metadata": {},
          "execution_count": 9
        }
      ]
    },
    {
      "cell_type": "markdown",
      "source": [
        "Otra herramienta útil es la habilidad de convertir tipos de datos. por ejemplo, al convertir x a un entero, obteneso solo su parte entera"
      ],
      "metadata": {
        "id": "qhmzXdWEBkts"
      }
    },
    {
      "cell_type": "code",
      "source": [
        "x2 = int(x) #transformamos un número que puede ser un flotante a un entero, en este caso 5.176\n",
        "x2"
      ],
      "metadata": {
        "colab": {
          "base_uri": "https://localhost:8080/"
        },
        "id": "9urmEVBeB2O7",
        "outputId": "4f492881-ed56-4359-fc2e-b926988190c5"
      },
      "execution_count": null,
      "outputs": [
        {
          "output_type": "execute_result",
          "data": {
            "text/plain": [
              "5"
            ]
          },
          "metadata": {},
          "execution_count": 10
        }
      ]
    },
    {
      "cell_type": "code",
      "source": [
        "type(x2) #muestra el valor del tipo de dato, ahora transformado"
      ],
      "metadata": {
        "colab": {
          "base_uri": "https://localhost:8080/"
        },
        "id": "5vO6QIlA2YJC",
        "outputId": "52446be0-845c-4b5c-ac04-fb92593a4c9c"
      },
      "execution_count": null,
      "outputs": [
        {
          "output_type": "execute_result",
          "data": {
            "text/plain": [
              "int"
            ]
          },
          "metadata": {},
          "execution_count": 11
        }
      ]
    },
    {
      "cell_type": "markdown",
      "source": [
        "Para las variables booleanas, su representación como números enteros puede resultar útil para determinadas aplicaciones. La correspondencia es la siguiente:\n",
        "\n",
        "True $\\neq$ 0 (representado más comunmente como 1)\n",
        "\n",
        "False = 0 (representado más comunmente como 0)"
      ],
      "metadata": {
        "id": "hUTYPuqRB7JS"
      }
    },
    {
      "cell_type": "code",
      "source": [
        "condicion_int = int(condition)\n",
        "condicion_int"
      ],
      "metadata": {
        "colab": {
          "base_uri": "https://localhost:8080/"
        },
        "id": "m7aHnSweB6Yy",
        "outputId": "6cc3098d-6ed4-42c8-c247-722436f643e8"
      },
      "execution_count": null,
      "outputs": [
        {
          "output_type": "execute_result",
          "data": {
            "text/plain": [
              "1"
            ]
          },
          "metadata": {},
          "execution_count": 2
        }
      ]
    },
    {
      "cell_type": "code",
      "source": [
        "c = 5\n",
        "condicion_2 = bool(c)\n",
        "condicion_2"
      ],
      "metadata": {
        "colab": {
          "base_uri": "https://localhost:8080/"
        },
        "id": "7fswi5YgCP1x",
        "outputId": "b6098ea0-6fbb-4b44-9d95-b26e55d69636"
      },
      "execution_count": null,
      "outputs": [
        {
          "output_type": "execute_result",
          "data": {
            "text/plain": [
              "True"
            ]
          },
          "metadata": {},
          "execution_count": 3
        }
      ]
    },
    {
      "cell_type": "code",
      "source": [
        "c = 0\n",
        "condicion_2 = bool(c)\n",
        "condicion_2"
      ],
      "metadata": {
        "colab": {
          "base_uri": "https://localhost:8080/"
        },
        "id": "14KqhWnGCwgP",
        "outputId": "28417a88-a53b-4787-bcec-78b6cbee0a00"
      },
      "execution_count": null,
      "outputs": [
        {
          "output_type": "execute_result",
          "data": {
            "text/plain": [
              "False"
            ]
          },
          "metadata": {},
          "execution_count": 14
        }
      ]
    },
    {
      "cell_type": "markdown",
      "source": [
        "Dos de los comandos principales usados para interactuar con la consola son: print() e input()"
      ],
      "metadata": {
        "id": "ZhNkkPAAIDDO"
      }
    },
    {
      "cell_type": "markdown",
      "source": [
        "El comando print() nos permite mostrar variables como también el texto que es proporcioado como un argumento en la pantalla"
      ],
      "metadata": {
        "id": "W5sOen9pJXY0"
      }
    },
    {
      "cell_type": "code",
      "source": [
        "print(\"This is the message to be printed.\\nIn this case, it has two lines.\") #\\n print a new line"
      ],
      "metadata": {
        "colab": {
          "base_uri": "https://localhost:8080/"
        },
        "id": "BU-dHeM0Jl7l",
        "outputId": "f81189ad-ae7e-486d-f747-49416b92dc2a"
      },
      "execution_count": null,
      "outputs": [
        {
          "output_type": "stream",
          "name": "stdout",
          "text": [
            "This is the message to be printed.\n",
            "In this case, it has two lines.\n"
          ]
        }
      ]
    },
    {
      "cell_type": "code",
      "source": [
        "print(b)"
      ],
      "metadata": {
        "colab": {
          "base_uri": "https://localhost:8080/"
        },
        "id": "vk4hdmzRJ6R-",
        "outputId": "51d0cd27-c848-438e-8dc4-ce1cc4dcbfa2"
      },
      "execution_count": null,
      "outputs": [
        {
          "output_type": "stream",
          "name": "stdout",
          "text": [
            "5\n"
          ]
        }
      ]
    },
    {
      "cell_type": "code",
      "source": [
        "print(condition)"
      ],
      "metadata": {
        "colab": {
          "base_uri": "https://localhost:8080/"
        },
        "id": "fzPS0Fh_KCig",
        "outputId": "639704fa-9f58-40f9-c696-de2f5e3ecb2d"
      },
      "execution_count": null,
      "outputs": [
        {
          "output_type": "stream",
          "name": "stdout",
          "text": [
            "True\n"
          ]
        }
      ]
    },
    {
      "cell_type": "markdown",
      "source": [
        "Por otro lado, el comando input() también puede mostrar un mensaje en pantalla, pero se mostrará antes del campo de entrada donde se ingresa el valor, que se almacenará en una variable de cadena."
      ],
      "metadata": {
        "id": "4Mrq_tb6KYEw"
      }
    },
    {
      "cell_type": "code",
      "source": [
        "y = input(\"Input a number please: \")\n",
        "y"
      ],
      "metadata": {
        "colab": {
          "base_uri": "https://localhost:8080/",
          "height": 53
        },
        "id": "BVX98Bx8LPs_",
        "outputId": "558ac5d4-9014-4372-9722-d8a89a269e63"
      },
      "execution_count": null,
      "outputs": [
        {
          "name": "stdout",
          "output_type": "stream",
          "text": [
            "Input a number please: 5\n"
          ]
        },
        {
          "output_type": "execute_result",
          "data": {
            "text/plain": [
              "'5'"
            ],
            "application/vnd.google.colaboratory.intrinsic+json": {
              "type": "string"
            }
          },
          "metadata": {},
          "execution_count": 4
        }
      ]
    },
    {
      "cell_type": "code",
      "source": [
        "type(y) #tenga en cuenta que se captura una cadena, debe proporcionar un casting para convertirla en un número si es necesario"
      ],
      "metadata": {
        "colab": {
          "base_uri": "https://localhost:8080/"
        },
        "id": "9JbU9M5rN_Vt",
        "outputId": "1048e3e1-e9b9-45c5-e1a4-450f6ac4310b"
      },
      "execution_count": null,
      "outputs": [
        {
          "output_type": "execute_result",
          "data": {
            "text/plain": [
              "str"
            ]
          },
          "metadata": {},
          "execution_count": 20
        }
      ]
    },
    {
      "cell_type": "markdown",
      "source": [
        "\n",
        "operaciones aritméticas básicas:"
      ],
      "metadata": {
        "id": "QG5TxjW-OWqY"
      }
    },
    {
      "cell_type": "code",
      "source": [
        "a = 2 + 4.5 + 3\n",
        "b = a - 2.5 # . mantiene operaciones decimales\n",
        "b"
      ],
      "metadata": {
        "colab": {
          "base_uri": "https://localhost:8080/"
        },
        "id": "AUJtIrleRIdQ",
        "outputId": "4256889c-66cf-4b69-e0a4-39a22c58cb9b"
      },
      "execution_count": null,
      "outputs": [
        {
          "output_type": "execute_result",
          "data": {
            "text/plain": [
              "7.0"
            ]
          },
          "metadata": {},
          "execution_count": 21
        }
      ]
    },
    {
      "cell_type": "code",
      "source": [
        "a = 3*8 # La multiplicación mantiene el tipo de datos si es un número entero.\n",
        "b = a/6 # La división lo convierte automáticamente en flotante incluso si es exacto\n",
        "a, b"
      ],
      "metadata": {
        "colab": {
          "base_uri": "https://localhost:8080/"
        },
        "id": "pzLN54zIRPMw",
        "outputId": "943c6c0c-eb24-4919-a75c-f351baff4ba9"
      },
      "execution_count": null,
      "outputs": [
        {
          "output_type": "execute_result",
          "data": {
            "text/plain": [
              "(24, 4.0)"
            ]
          },
          "metadata": {},
          "execution_count": 22
        }
      ]
    },
    {
      "cell_type": "code",
      "source": [
        "a = 2**2 # ** operador de exponente\n",
        "a"
      ],
      "metadata": {
        "colab": {
          "base_uri": "https://localhost:8080/"
        },
        "id": "hPtAUG8ASYWB",
        "outputId": "1879901a-c276-40c6-ea54-4a0271052b65"
      },
      "execution_count": null,
      "outputs": [
        {
          "output_type": "execute_result",
          "data": {
            "text/plain": [
              "4"
            ]
          },
          "metadata": {},
          "execution_count": 24
        }
      ]
    },
    {
      "cell_type": "code",
      "source": [
        "b = 9**(1/2)\n",
        "b"
      ],
      "metadata": {
        "colab": {
          "base_uri": "https://localhost:8080/"
        },
        "id": "cxjxYCBVSbp0",
        "outputId": "98b17fbb-3e7f-4556-f9e0-8aa939e8d8be"
      },
      "execution_count": null,
      "outputs": [
        {
          "output_type": "execute_result",
          "data": {
            "text/plain": [
              "3.0"
            ]
          },
          "metadata": {},
          "execution_count": 25
        }
      ]
    },
    {
      "cell_type": "markdown",
      "source": [
        "\n",
        "Esta es la forma de calcular raices cuadradas sin usar alguna librería. en general, para cálculos más avanzados , numpy y sympy son comunmente usados"
      ],
      "metadata": {
        "id": "Q-Zz-FXuSkuC"
      }
    },
    {
      "cell_type": "markdown",
      "source": [
        "## Ejercicios"
      ],
      "metadata": {
        "id": "fe0JX6B0TEjG"
      }
    },
    {
      "cell_type": "markdown",
      "source": [
        "1. Escriba un programa que muestre el resultado de la siguiente operación aritmética en la pantalla: $x(t) = \\left(\\frac{3+2}{2.5}\\right)^2$\n",
        "\n",
        "2. Escriba un programa que pregunte al usuario el número de horas trabajadas y la tarifa por hora. Luego, deberá mostrar en pantalla el pago correspondiente.\n",
        "\n",
        "3. Escribe un programa que pregunte al usuario su peso (en kg) y altura (en metros), calcule el índice de masa corporal (IMC), lo almacene en una variable y muestre el mensaje \"Tu índice de masa corporal es imc\". en la pantalla, donde imc es el IMC calculado redondeado a dos decimales."
      ],
      "metadata": {
        "id": "96blkWptzDmu"
      }
    },
    {
      "cell_type": "markdown",
      "source": [
        "##Solución"
      ],
      "metadata": {
        "id": "sOXNT0dgRQoH"
      }
    },
    {
      "cell_type": "code",
      "source": [
        "#vamos a realizar un programa que realice la operación del primer punto\n",
        "x = ((3+2) / 2.5)**2 #creamos una variable que realice la operación\n",
        "x #podermos escribir la variable o también utilizar el comando print"
      ],
      "metadata": {
        "id": "kCu6jd2mRS6I",
        "colab": {
          "base_uri": "https://localhost:8080/"
        },
        "outputId": "cecbaa30-6871-4bc0-e247-3ead7c8e4353"
      },
      "execution_count": null,
      "outputs": [
        {
          "output_type": "execute_result",
          "data": {
            "text/plain": [
              "4.0"
            ]
          },
          "metadata": {},
          "execution_count": 1
        }
      ]
    },
    {
      "cell_type": "code",
      "source": [
        "#vamos a realizar el mismo ejercicio utilizando funciones:\n",
        "def my_funcion(x): #creamos una función con un argumento x\n",
        "  y = ((x+2) / 2.5)**2 #planteamos el cuerpo de la función\n",
        "  return y #declaramos la variable de retorno\n",
        "resultado = my_funcion(3) #evaluamos la función en 3\n",
        "print(resultado) #mostramos el valor de la función evaluada en 3"
      ],
      "metadata": {
        "colab": {
          "base_uri": "https://localhost:8080/"
        },
        "id": "j4dj90cxnAhI",
        "outputId": "b033a8ed-f8b0-4d98-b1b3-bd6fc90a0d1f"
      },
      "execution_count": null,
      "outputs": [
        {
          "output_type": "stream",
          "name": "stdout",
          "text": [
            "4.0\n"
          ]
        }
      ]
    },
    {
      "cell_type": "code",
      "source": [
        "#ahora vamos a realizar un programa que le pregunte al usuario por el número de horas trabajadas y el valor de pago por cada hora\n",
        "print('Bienvenido señor usuario, en este programa vamos a calcular el valor a pagar por el número de horas trabajadas') #agregamos un mensaje de bienvenida\n",
        "horas = input('por favor ingrese el número de horas trabajadas: ') #pedimos al usuario que ingrese las horas trabajadas\n",
        "pago_horas = input('por favor ingrese el valor de pago por cada hora trabajada: ') #le pedimos al usuario que ingrese la tarifa por cada hora trabajada\n",
        "def pago(horas, pago_hora): #creamos una función que realice el cálculo, importante definimos a horas y pago_horas con float ya que el sistema entiende que se van a multiplicar dos strings\n",
        "  pago = float(horas) * float(pago_hora) #creamos el cuerpo de la función que realiza la operación.\n",
        "  return pago #declaramos la variable de retorno\n",
        "print(f'el valor a pagar es {pago(horas, pago_horas)}') #imprimimos el mensaje en pantalla"
      ],
      "metadata": {
        "colab": {
          "base_uri": "https://localhost:8080/"
        },
        "id": "EpRdvRl5oKSq",
        "outputId": "1067e8c6-f089-4c85-abec-e507d8c33e14"
      },
      "execution_count": null,
      "outputs": [
        {
          "output_type": "stream",
          "name": "stdout",
          "text": [
            "Bienvenido señor usuario, en este programa vamos a calcular el valor a pagar por el número de horas trabajadas\n",
            "por favor ingrese el número de horas trabajadas: 5\n",
            "por favor ingrese el valor de pago por cada hora trabajada: 2\n",
            "el valor a pagar es 10.0\n"
          ]
        }
      ]
    },
    {
      "cell_type": "code",
      "source": [
        "#vamos a crear un programa que calcule el imc\n",
        "print('Bienvenido señor usuario, en este programa vamos a calcular su índice de masa corporal') #mostramos un mensaje de bienvenida al usuario\n",
        "peso = input('por favor ingrese su peso en kg: ')#le pedimos al usuario que ingrese su peso\n",
        "altura = input('por favor ingrese su altura en metros: ')#le pedimos al usuario que ingrese su altura\n",
        "def imc(peso, altura): #creamos una función que permita realizar la operación\n",
        "  imc_generado = float(peso) / float(altura)**2 #cuerpo de la función\n",
        "  return imc_generado #declaración de la variable de retorno\n",
        "imc_aprox = round(imc(peso, altura))\n",
        "imc_aprox_2 = round(imc(peso, altura), 2)\n",
        "print(f'su indice de masa corporal imc aproximado al entero más cercano es: {imc_aprox}')\n",
        "print(f'su indice de masa corporal imc aproximado con 2 cifras significativas es de: {imc_aprox_2}')\n",
        "print(f'su indice de masa corporal imc sin aproximar es{imc(peso, altura)}')\n"
      ],
      "metadata": {
        "colab": {
          "base_uri": "https://localhost:8080/"
        },
        "id": "4kg1IBF2sS_3",
        "outputId": "5715483a-7851-4f99-801b-749494a01a6a"
      },
      "execution_count": null,
      "outputs": [
        {
          "output_type": "stream",
          "name": "stdout",
          "text": [
            "Bienvenido señor usuario, en este programa vamos a calcular su índice de masa corporal\n",
            "por favor ingrese su peso en kg: 4\n",
            "por favor ingrese su altura en metros: 3\n",
            "su indice de masa corporal imc aproximado al entero más cercano es: 0\n",
            "su indice de masa corporal imc aproximado con 2 cifras significativas es de: 0.44\n",
            "su indice de masa corporal imc sin aproximar es0.4444444444444444\n"
          ]
        }
      ]
    },
    {
      "cell_type": "markdown",
      "source": [
        "Developed by:\n",
        "\n",
        "- Brian Patino Agudelo - bpatinoa@unal.edu.co\n",
        "\n",
        "- Andrés Marino Álvarez Meza - amalvarezme@unal.edu.co\n",
        "\n",
        "- César Germán Castellanos Domínguez - cgcastellanosd@unal.edu.co"
      ],
      "metadata": {
        "id": "pwWLNV4zz5di"
      }
    },
    {
      "cell_type": "code",
      "source": [],
      "metadata": {
        "id": "DYIs5bv57aMv"
      },
      "execution_count": null,
      "outputs": []
    }
  ]
}