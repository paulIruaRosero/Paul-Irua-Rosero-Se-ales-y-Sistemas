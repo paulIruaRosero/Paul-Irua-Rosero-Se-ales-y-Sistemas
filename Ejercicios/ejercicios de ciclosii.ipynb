{
  "nbformat": 4,
  "nbformat_minor": 0,
  "metadata": {
    "colab": {
      "provenance": [],
      "include_colab_link": true
    },
    "kernelspec": {
      "name": "python3",
      "display_name": "Python 3"
    },
    "language_info": {
      "name": "python"
    }
  },
  "cells": [
    {
      "cell_type": "markdown",
      "metadata": {
        "id": "view-in-github",
        "colab_type": "text"
      },
      "source": [
        "<a href=\"https://colab.research.google.com/github/paulIruaRosero/Paul-Irua-Rosero-Se-ales-y-Sistemas/blob/main/Ejercicios/ejercicios%20de%20ciclosii.ipynb\" target=\"_parent\"><img src=\"https://colab.research.google.com/assets/colab-badge.svg\" alt=\"Open In Colab\"/></a>"
      ]
    },
    {
      "cell_type": "markdown",
      "source": [
        "**Ejercicio 1**\n",
        "\n",
        "Suma de los primeros n números pares\n",
        "Este ejercicio le pide que cree un programa que calcule la suma de los primeros n números pares, donde n lo ingresa el usuario."
      ],
      "metadata": {
        "id": "f4LoB4SNtQKM"
      }
    },
    {
      "cell_type": "code",
      "execution_count": null,
      "metadata": {
        "id": "h2gPqs67tF84",
        "colab": {
          "base_uri": "https://localhost:8080/"
        },
        "outputId": "03e92fe8-4eb1-41b4-8ab9-fdd0e1d1ee72"
      },
      "outputs": [
        {
          "output_type": "stream",
          "name": "stdout",
          "text": [
            "Ingrese un número entero positivo: 0\n",
            "La suma de los primeros 0 números pares es: 0\n"
          ]
        }
      ],
      "source": [
        "n = int(input(\"Ingrese un número entero positivo: \"))\n",
        "suma = 0\n",
        "\n",
        "for i in range(1, n+1):\n",
        "    if i % 2 == 0:\n",
        "        suma += i\n",
        "\n",
        "print(\"La suma de los primeros\", n, \"números pares es:\", suma)"
      ]
    },
    {
      "cell_type": "markdown",
      "source": [
        "vamos a realizar el mismo ejercicio utilizando otro tipo de código"
      ],
      "metadata": {
        "id": "OoGTycYaUxru"
      }
    },
    {
      "cell_type": "code",
      "source": [
        "print('Bienvenido al programa que calcula la suma de los primeros n números pares') #creamos un comentario de bienvenida al usuario\n",
        "while True: #creamos un bucle infinito hasta que se cumpla la condición de que el número deber ser un entero mayor o igual a cero rompiendo este bucle con break\n",
        "    try: #ejecuta el código dentro de este bloqque y si se presenta un error, el programa no se detendrá, en su lugar pasara al bloque except\n",
        "        n = float(input('por favor ingrese un número entero positivo: '))#se le pide al usuario que ingrese un valor que se convierte en flotante\n",
        "        if n.is_integer() and n >= 0:#verifica que el número ingresado sea entero usando el método .is_integer() que devuelve True si el número no tiene decimales y si es mayor que cero\n",
        "          n = int(n) #si ambas condiciones son ciertas n se convierte en entero\n",
        "          break#rompe el bucle infinito ya que se cumplen las condiciones\n",
        "        else: #si las condiciones no se cumplen, el sistema va a imprimir un mensaje que indica que debe volver a ingresar un número que cumpla las condiciones\n",
        "          print('Error: entrada no valida, el número debe ser un entero positivo y mayor o igual a cero')\n",
        "    except ValueError: #si el usuario ingresa un valor que no puede convertirse a float, el sistema va a arrojar un mensaje de error\n",
        "      print('Error: entrada no valida, por favor ingrese un número entero positivo')\n",
        "\n",
        "\n",
        "suma = sum(2 * i for i in range(1, n + 1)) #calcula la suma de los primeros n números pares.\n",
        "#range(1, n + 1) genera una secuencia de números que comienzan con 1 y terminan en n, ya que n + 1 no se incluye, es decir genera los números 1, 2, 3, 4...n\n",
        "#2*i dentro del bucle de cada iteración se multiplica i por 2, esto genera los primeros n números pares\n",
        "#sum() suma todos los números de la iteración\n",
        "#el generador 2 * i for i in range(1, n + 1) genera todos los n números pares\n",
        "print(f'la suma de los {n} primeros pares es {suma}')\n"
      ],
      "metadata": {
        "colab": {
          "base_uri": "https://localhost:8080/"
        },
        "id": "ColKz8i0U2mV",
        "outputId": "eb6b652b-b8c2-4a6f-b71b-d8225dcfd8a2"
      },
      "execution_count": null,
      "outputs": [
        {
          "output_type": "stream",
          "name": "stdout",
          "text": [
            "Bienvenido al programa que calcula la suma de los primeros n números pares\n",
            "por favor ingrese un número entero positivo: 6\n",
            "la suma de los 6 primeros pares es 42\n"
          ]
        }
      ]
    },
    {
      "cell_type": "markdown",
      "source": [
        "**Ejercicio 2**\n",
        "\n",
        "Generación de números primos. Este ejercicio te pide crear un programa que genere una lista con los primeros n números primos, donde n es ingresado por el usuario."
      ],
      "metadata": {
        "id": "M-_hk4Wpt39O"
      }
    },
    {
      "cell_type": "code",
      "source": [
        "n = int(input(\"Ingrese un número entero positivo: \")) #solicita al usuario que ingrese un número entero positivo n\n",
        "primos = [] #crea una lista llamada primos donde se almacenaran los números primos encontrados\n",
        "\n",
        "for num in range(2, n+1): #crea un bucle para verificar cada número hasta n, el objetivo es iterar sobre todos los números hasta n inclusive\n",
        "#range(2, n+1): genera los números de 2 hasta n, comienza desde el 2, ya que el 1 no se cosidera primo\n",
        "#num: en cada iteración la variable num tomara el valor de un número en este rango comenzando desde 2 hasta n\n",
        "    es_primo = True #se asume que núm es un número primo\n",
        "    for i in range(2, num): #recorre todos los números desde 2 hasta num-1 para verificar si num es divisible por alguno de ellos\n",
        "        if num % i == 0: #verifica si num es divisible por i, si lo es num no es un número primo porque tiene más divisores que 1 y el mismo\n",
        "        #si se verifica que num % i == 0 se establece es_primo = False y se sale del bucle con break, ya no es necesario seguir buscando más divisores\n",
        "            es_primo = False\n",
        "            break\n",
        "    if es_primo: #si despues de haber comprobado todos los posibles divisores i del 2 hasta num-1 la variable es_primo siguie siendo True, por tanto es un número primo\n",
        "        primos.append(num) #el número primo encontrado se agrega a la lista primos\n",
        "\n",
        "print(\"Los primeros\", n, \"números primos son:\", primos)#imprime los números primos encontrados"
      ],
      "metadata": {
        "id": "QtASDcrLuFtg",
        "colab": {
          "base_uri": "https://localhost:8080/"
        },
        "outputId": "80e46d63-55d7-46b7-d210-a8a895a0eb48"
      },
      "execution_count": null,
      "outputs": [
        {
          "output_type": "stream",
          "name": "stdout",
          "text": [
            "Ingrese un número entero positivo: 7\n",
            "Los primeros 7 números primos son: [2, 3, 5, 7]\n"
          ]
        }
      ]
    },
    {
      "cell_type": "markdown",
      "source": [
        "Realicemos el ejercicio de una manera diferente"
      ],
      "metadata": {
        "id": "21O_hxWGmJp1"
      }
    },
    {
      "cell_type": "code",
      "source": [
        "def es_primo(num):\n",
        "    \"\"\"Función para verificar si un número es primo.\"\"\"\n",
        "    if num <= 1:\n",
        "        return False  # Los números menores o iguales a 1 no son primos.\n",
        "    for i in range(2, int(num ** 0.5) + 1):\n",
        "        if num % i == 0:  # Si num es divisible por i, no es primo.\n",
        "            return False\n",
        "    return True\n",
        "\n",
        "def generar_primos(n):\n",
        "    \"\"\"Función para generar una lista con los primeros n números primos.\"\"\"\n",
        "    primos = []\n",
        "    num = 2  # El primer número primo\n",
        "    while len(primos) < n:\n",
        "        if es_primo(num):\n",
        "            primos.append(num)\n",
        "        num += 1\n",
        "    return primos\n",
        "\n",
        "# Solicitar al usuario el número de primos que quiere generar\n",
        "while True:\n",
        "    try:\n",
        "        n = int(input(\"Por favor, ingrese el número de primos que desea generar: \"))\n",
        "        if n > 0:\n",
        "            break\n",
        "        else:\n",
        "            print(\"Por favor, ingrese un número entero positivo.\")\n",
        "    except ValueError:\n",
        "        print(\"Error: Debe ingresar un número entero válido.\")\n",
        "\n",
        "# Generar los primeros n números primos\n",
        "primos = generar_primos(n)\n",
        "\n",
        "# Mostrar el resultado\n",
        "print(f\"Los primeros {n} números primos son: {primos}\")\n"
      ],
      "metadata": {
        "colab": {
          "base_uri": "https://localhost:8080/"
        },
        "id": "k9n6Nnt7mOm9",
        "outputId": "99bae829-eca0-4172-92a8-828a94ad2b51"
      },
      "execution_count": null,
      "outputs": [
        {
          "output_type": "stream",
          "name": "stdout",
          "text": [
            "Por favor, ingrese el número de primos que desea generar: 0\n",
            "Por favor, ingrese un número entero positivo.\n",
            "Por favor, ingrese el número de primos que desea generar: -6\n",
            "Por favor, ingrese un número entero positivo.\n",
            "Por favor, ingrese el número de primos que desea generar: 3.5\n",
            "Error: Debe ingresar un número entero válido.\n",
            "Por favor, ingrese el número de primos que desea generar: 9\n",
            "Los primeros 9 números primos son: [2, 3, 5, 7, 11, 13, 17, 19, 23]\n"
          ]
        }
      ]
    },
    {
      "cell_type": "markdown",
      "source": [
        "Este es un programa que encuentra los números primos hasta un número n ingresado por el usuario."
      ],
      "metadata": {
        "id": "IoB5PzMyxWZk"
      }
    },
    {
      "cell_type": "code",
      "source": [
        "def es_primo(num): #creamos una función llamada es_primo con un argumento num que nos va a ayudar a determinar si dicho número ingresado es primo o no\n",
        "    \"\"\"Función para verificar si un número es primo.\"\"\"\n",
        "    if num <= 1:\n",
        "        return False  # Los números menores o iguales a 1 no son primos.\n",
        "    for i in range(2, int(num ** 0.5) + 1):\n",
        "        if num % i == 0:\n",
        "            return False  # Si num es divisible por i, no es primo.\n",
        "    return True\n",
        "\n",
        "# Solicitar al usuario un número n\n",
        "while True:\n",
        "    try:\n",
        "        n = int(input(\"Ingrese un número entero positivo: \"))  # El número máximo hasta el cual buscar primos\n",
        "        if n > 0:\n",
        "            break\n",
        "        else:\n",
        "            print(\"Por favor, ingrese un número entero positivo.\")\n",
        "    except ValueError:\n",
        "        print(\"Error: Debe ingresar un número entero válido.\")\n",
        "\n",
        "# Encontrar todos los números primos hasta n\n",
        "primos = []\n",
        "for num in range(2, n + 1):\n",
        "    if es_primo(num):\n",
        "        primos.append(num)\n",
        "\n",
        "# Mostrar los números primos encontrados\n",
        "print(f\"Los números primos hasta {n} son: {primos}\")\n"
      ],
      "metadata": {
        "colab": {
          "base_uri": "https://localhost:8080/"
        },
        "id": "JZrtQxDTxRuk",
        "outputId": "9c4d3fed-4096-4fd5-b0fc-8dcad7f029bb"
      },
      "execution_count": null,
      "outputs": [
        {
          "output_type": "stream",
          "name": "stdout",
          "text": [
            "Ingrese un número entero positivo: 4\n",
            "Los números primos hasta 4 son: [2, 3]\n"
          ]
        }
      ]
    },
    {
      "cell_type": "markdown",
      "source": [
        "**Exercise 3**\n",
        "\n",
        "Hangman game, In this exercise you are asked to create a program that implements the classic game of hangman. The program should select a word at random from a predefined list, display the number of letters the word has, and allow the user to enter one letter at a time. If the entered letter is in the word, its position in the word will be displayed. If the letter is not in the word, a life will be subtracted from the player. The player has a total of 6 lives and loses if they lose all of them."
      ],
      "metadata": {
        "id": "Qz0P_8MDuKy9"
      }
    },
    {
      "cell_type": "markdown",
      "source": [
        "**Exercise 4**\n",
        "\n",
        "Write a program to find the largest and smallest number in a list using a for loop."
      ],
      "metadata": {
        "id": "EefsqusXu-Ig"
      }
    },
    {
      "cell_type": "code",
      "source": [
        "numbers = [12, 45, 23, 67, 89, 34, 56]\n",
        "\n",
        "# Initialize the variables to the first number in the list\n",
        "largest = numbers[0]\n",
        "smallest = numbers[0]\n",
        "\n",
        "# Loop through the list to compare each number with the current largest and smallest\n",
        "for number in numbers:\n",
        "    if number > largest:\n",
        "        largest = number\n",
        "    elif number < smallest:\n",
        "        smallest = number\n",
        "\n",
        "# Print the largest and smallest numbers\n",
        "print(\"The largest number is:\", largest)\n",
        "print(\"The smallest number is:\", smallest)"
      ],
      "metadata": {
        "id": "81IJdQiqwris"
      },
      "execution_count": null,
      "outputs": []
    },
    {
      "cell_type": "markdown",
      "source": [
        "**Exercise 5**\n",
        "\n",
        "Dice Throwing Simulator: The program simulates the throwing of a six-sided die, and repeats it a given number of times. Shows the number of times each number was rolled."
      ],
      "metadata": {
        "id": "r-XO5Xz9xxI3"
      }
    },
    {
      "cell_type": "code",
      "source": [
        "import random\n",
        "\n",
        "lanzamientos = int(input(\"Ingrese la cantidad de lanzamientos: \"))\n",
        "\n",
        "numeros = [0, 0, 0, 0, 0, 0]\n",
        "for i in range(lanzamientos):\n",
        "    numero = random.randint(1, 6)\n",
        "    numeros[numero-1] += 1\n",
        "\n",
        "for i in range(6):\n",
        "    print(\"Número \" + str(i+1) + \": \" + str(numeros[i]) + \" veces\")"
      ],
      "metadata": {
        "id": "PELbU6wSyDHv",
        "colab": {
          "base_uri": "https://localhost:8080/"
        },
        "outputId": "3c65dbac-ba71-4687-e66a-581a58c538d5"
      },
      "execution_count": null,
      "outputs": [
        {
          "output_type": "stream",
          "name": "stdout",
          "text": [
            "Ingrese la cantidad de lanzamientos: 5\n",
            "Número 1: 2 veces\n",
            "Número 2: 1 veces\n",
            "Número 3: 2 veces\n",
            "Número 4: 0 veces\n",
            "Número 5: 0 veces\n",
            "Número 6: 0 veces\n"
          ]
        }
      ]
    },
    {
      "cell_type": "markdown",
      "source": [
        "**Exercise 6**\n",
        "\n",
        "Password generator: Write a program that generates random 8-character passwords, containing uppercase letters, lowercase letters, and numbers."
      ],
      "metadata": {
        "id": "CmXN9dRXyw8u"
      }
    },
    {
      "cell_type": "code",
      "source": [
        "import random\n",
        "import string\n",
        "\n",
        "longitud = 8\n",
        "letras = string.ascii_letters + string.digits\n",
        "contraseña = \"\"\n",
        "\n",
        "for i in range(longitud):\n",
        "    contraseña += random.choice(letras)\n",
        "\n",
        "print(\"La contraseña generada es:\", contraseña)"
      ],
      "metadata": {
        "id": "ChBp6B5hyzmR"
      },
      "execution_count": null,
      "outputs": []
    }
  ]
}