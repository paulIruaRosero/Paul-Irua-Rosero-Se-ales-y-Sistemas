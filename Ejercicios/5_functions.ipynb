{
  "nbformat": 4,
  "nbformat_minor": 0,
  "metadata": {
    "colab": {
      "provenance": [],
      "include_colab_link": true
    },
    "kernelspec": {
      "name": "python3",
      "display_name": "Python 3"
    },
    "language_info": {
      "name": "python"
    }
  },
  "cells": [
    {
      "cell_type": "markdown",
      "metadata": {
        "id": "view-in-github",
        "colab_type": "text"
      },
      "source": [
        "<a href=\"https://colab.research.google.com/github/paulIruaRosero/Paul-Irua-Rosero-Se-ales-y-Sistemas/blob/main/Ejercicios/5_functions.ipynb\" target=\"_parent\"><img src=\"https://colab.research.google.com/assets/colab-badge.svg\" alt=\"Open In Colab\"/></a>"
      ]
    },
    {
      "cell_type": "markdown",
      "source": [
        "##Funciones\n",
        "\n",
        "Las funciones son bloques de código que se pueden reutilizar en diferentes partes de un programa. Son útiles porque nos permiten evitar la repetición de código y hacer que nuestro código sea más modular y fácil de leer.\n",
        "\n",
        "En Python, las funciones se definen utilizando la palabra clave def, seguida del nombre de la función y una lista de argumentos entre paréntesis. El cuerpo de la función va después, con sangría.\n",
        "\n",
        "Por ejemplo, aquí hay una función simple que toma dos argumentos y devuelve su suma:"
      ],
      "metadata": {
        "id": "S7bKHe0V-ktK"
      }
    },
    {
      "cell_type": "code",
      "execution_count": null,
      "metadata": {
        "id": "9bwPSLJH91gF"
      },
      "outputs": [],
      "source": [
        "def add(a, b):\n",
        "    return a + b\n"
      ]
    },
    {
      "cell_type": "markdown",
      "source": [
        "Podemos llamar a esta función de la siguiente manera:\n",
        "\n"
      ],
      "metadata": {
        "id": "rcjU06-j-ouc"
      }
    },
    {
      "cell_type": "code",
      "source": [
        "result = add(3, 4)\n",
        "print(result) # output: 7\n"
      ],
      "metadata": {
        "id": "0HtHH2uz-uyg",
        "colab": {
          "base_uri": "https://localhost:8080/"
        },
        "outputId": "2ecf5cd7-b818-4090-9baf-4f5fa163952d"
      },
      "execution_count": null,
      "outputs": [
        {
          "output_type": "stream",
          "name": "stdout",
          "text": [
            "7\n"
          ]
        }
      ]
    },
    {
      "cell_type": "markdown",
      "source": [
        "En este ejemplo, pasamos los argumentos 3 y 4 a la función agregar, que devolvió 7. Luego almacenamos el resultado en una variable llamada resultado y lo imprimimos en la pantalla."
      ],
      "metadata": {
        "id": "aOgQWQwL-wHt"
      }
    },
    {
      "cell_type": "markdown",
      "source": [
        "##Argumentos de funciones"
      ],
      "metadata": {
        "id": "Wb92IaCNAJ0Y"
      }
    },
    {
      "cell_type": "markdown",
      "source": [
        "En Python, existen diferentes tipos de argumentos que podemos pasar a una función. Los argumentos se definen en la lista de parámetros de la función, separados por comas."
      ],
      "metadata": {
        "id": "FwFmcZ7rAQG3"
      }
    },
    {
      "cell_type": "markdown",
      "source": [
        "##Argumentos de posición"
      ],
      "metadata": {
        "id": "sJj8Q_hCAUot"
      }
    },
    {
      "cell_type": "markdown",
      "source": [
        "Los argumentos posicionales son aquellos que se pasan a una función en el orden en que aparecen en la lista de parámetros. Por ejemplo, en la función add(a, b) anterior, a es el primer argumento posicional y b es el segundo."
      ],
      "metadata": {
        "id": "5bJ15-CpAct-"
      }
    },
    {
      "cell_type": "markdown",
      "source": [
        "##Argumentos de valor predeterminado"
      ],
      "metadata": {
        "id": "ha4yexfwAk-6"
      }
    },
    {
      "cell_type": "markdown",
      "source": [
        "Los argumentos de valor predeterminado son aquellos que tienen un valor predeterminado asignado en la lista de parámetros. Si no se proporciona el argumento al llamar a la función, se utiliza su valor predeterminado. Por ejemplo, aquí hay una función que toma un argumento posicional y un argumento de valor predeterminado:"
      ],
      "metadata": {
        "id": "fZ-SOVgYAovN"
      }
    },
    {
      "cell_type": "code",
      "source": [
        "def greet(name, greeting=\"Hello\"):\n",
        "    print(greeting + \", \" + name + \"!\")\n",
        "\n",
        "# Example usage\n",
        "greet(\"Juan\")  # Output: Hello, Juan!\n",
        "\n",
        "name = input(\"Enter your name: \")\n",
        "greet(name)  # Output: Hello, [name entered]!"
      ],
      "metadata": {
        "id": "5NazaGuK_eSO",
        "colab": {
          "base_uri": "https://localhost:8080/"
        },
        "outputId": "81dd9c55-2db5-4e09-d987-ca4ed6d72562"
      },
      "execution_count": null,
      "outputs": [
        {
          "output_type": "stream",
          "name": "stdout",
          "text": [
            "Hello, Juan!\n",
            "Enter your name: pablo\n",
            "Hello, pablo!\n"
          ]
        }
      ]
    },
    {
      "cell_type": "markdown",
      "source": [
        "Si llamamos a esta función con saludar (\"John\"), el resultado será ¡Hola, John!. Si llamamos a la función con saludar(\"Peter\", \"Buenos días\"), el resultado será ¡Buenos días, Peter!."
      ],
      "metadata": {
        "id": "0JKqNTPIAxnq"
      }
    },
    {
      "cell_type": "markdown",
      "source": [
        "### Argumentos de longitud variable"
      ],
      "metadata": {
        "id": "mJYjb7QLA13X"
      }
    },
    {
      "cell_type": "markdown",
      "source": [
        "A veces queremos pasar una cantidad variable de argumentos a una función. En Python, podemos hacer esto usando argumentos de longitud variable."
      ],
      "metadata": {
        "id": "k28bUldiA7NL"
      }
    },
    {
      "cell_type": "markdown",
      "source": [
        "##argumentos posicionales variables\n",
        "Los argumentos posicionales variables se definen con un asterisco (*) antes del nombre del argumento en la lista de parámetros. Esto indica que la función acepta un número variable de argumentos posicionales. Por ejemplo:"
      ],
      "metadata": {
        "id": "5waAk76PA_nw"
      }
    },
    {
      "cell_type": "code",
      "source": [
        "def print_names(*names):\n",
        "    for name in names:\n",
        "        print(name)\n"
      ],
      "metadata": {
        "id": "iANwE0kGBEmd"
      },
      "execution_count": null,
      "outputs": []
    },
    {
      "cell_type": "markdown",
      "source": [
        "Esta función toma un número variable de argumentos posicionales y los imprime en la pantalla. Podemos llamar a la función con cualquier número de argumentos:"
      ],
      "metadata": {
        "id": "GihiUzY2BHJW"
      }
    },
    {
      "cell_type": "code",
      "source": [
        "print_names(\"John\", \"Peter\", \"Mary\") # output: John Peter Mary\n",
        "print_names(\"Charles\") # output: Charles\n",
        "print_names() # output:\n"
      ],
      "metadata": {
        "id": "Di0ZxLoeBLtQ",
        "colab": {
          "base_uri": "https://localhost:8080/"
        },
        "outputId": "200ff66d-1d0f-4136-9f64-cf2c8476ad97"
      },
      "execution_count": null,
      "outputs": [
        {
          "output_type": "stream",
          "name": "stdout",
          "text": [
            "John\n",
            "Peter\n",
            "Mary\n",
            "Charles\n"
          ]
        }
      ]
    },
    {
      "cell_type": "markdown",
      "source": [
        "####Argumentos de palabras clave variables\n",
        "Los argumentos de palabras clave variables se definen con dos asteriscos (**) antes del nombre del argumento en la lista de parámetros. Esto indica que la función acepta un número variable de argumentos de palabras clave. Por ejemplo:"
      ],
      "metadata": {
        "id": "PfP5NFypBMbw"
      }
    },
    {
      "cell_type": "code",
      "source": [
        "def print_kwargs(**kwargs):\n",
        "    for key, value in kwargs.items():\n",
        "        print(key + \": \" + value)\n"
      ],
      "metadata": {
        "id": "MFtyekZaBPtf"
      },
      "execution_count": null,
      "outputs": []
    },
    {
      "cell_type": "markdown",
      "source": [
        "Esta función toma un número variable de argumentos de palabras clave e imprime sus claves y valores en la pantalla. Podemos llamar a la función con cualquier número de argumentos de palabras clave:"
      ],
      "metadata": {
        "id": "mAAEOKFrBXUe"
      }
    },
    {
      "cell_type": "code",
      "source": [
        "print_kwargs(name=\"John\", age=\"25\", city=\"New York\")\n",
        "# output:\n",
        "# name: John\n",
        "# age: 25\n",
        "# city: New York\n"
      ],
      "metadata": {
        "id": "cJ2Kvo86BdAa",
        "colab": {
          "base_uri": "https://localhost:8080/"
        },
        "outputId": "f8a6cee5-124d-404e-c257-221c9452816a"
      },
      "execution_count": null,
      "outputs": [
        {
          "output_type": "stream",
          "name": "stdout",
          "text": [
            "name: John\n",
            "age: 25\n",
            "city: New York\n"
          ]
        }
      ]
    },
    {
      "cell_type": "markdown",
      "source": [
        "##Conclusion"
      ],
      "metadata": {
        "id": "JoPc9PakBZBx"
      }
    },
    {
      "cell_type": "markdown",
      "source": [
        "Las funciones son un concepto importante en la programación y Python facilita su definición y uso."
      ],
      "metadata": {
        "id": "nwKUfCxSBies"
      }
    },
    {
      "cell_type": "markdown",
      "source": [
        "## Ejercicio 1\n",
        "\n"
      ],
      "metadata": {
        "id": "bZmYScf-CCRg"
      }
    },
    {
      "cell_type": "markdown",
      "source": [
        "El área de un triángulo se puede calcular cuando se conoce la longitud de sus lados. Teniendo en cuenta que s1, s2 y s3 ​​son las longitudes de los lados del triángulo, se puede calcular el subperímetro s = (s1+s2+s3)/2, y con este valor se puede calcular el área del triángulo. de lo siguiente: área = √( s * (s-s1) * (s-s2) * (s-s3) ).\n",
        "\n",
        "Crea una función que tome la longitud de los lados del triángulo y devuelva el área del triángulo, redondeada a un decimal.\n",
        "\n",
        "El módulo de matemáticas puede ayudarte a calcular la raíz cuadrada.\n",
        "\n",
        "\n"
      ],
      "metadata": {
        "id": "S6OE1xSBCFfb"
      }
    },
    {
      "cell_type": "markdown",
      "source": [
        "##Solución"
      ],
      "metadata": {
        "id": "vZSJXYW3ukrj"
      }
    },
    {
      "cell_type": "code",
      "source": [
        "import math\n",
        "#vamos a preguntarle a un usuario que ingrese valores para el cálculo del area\n",
        "print('Bienvenido, vamos a calcular el área de  un triángulo, por favor ingrese los siguientes datos: ')\n",
        "s1 = float(input(\"Ingrese la longitud del primer lado: \"))\n",
        "s2 = float(input(\"Ingrese la longitud del segundo lado: \"))\n",
        "s3 = float(input(\"Ingrese la longitud del tercer lado: \"))\n",
        "\n",
        "#vamos a crear una funcíon que pueda realizar el cálculo\n",
        "def area_triangulo(s1, s2, s3):\n",
        "  s = (s1 + s2 + s3) / 2\n",
        "  area = math.sqrt(s * (s - s1) * (s - s2) * (s - s3))\n",
        "  return area\n",
        "area1 = area_triangulo(s1, s2, s3)\n",
        "area_round = round(area1, 1)\n",
        "print('El area del triángulo es: ', area_round)"
      ],
      "metadata": {
        "colab": {
          "base_uri": "https://localhost:8080/"
        },
        "id": "YPDdVKpduoFl",
        "outputId": "50af75b0-4a7e-4b9a-c54c-33fdd1e07915"
      },
      "execution_count": null,
      "outputs": [
        {
          "output_type": "stream",
          "name": "stdout",
          "text": [
            "Bienvenido, vamos a calcular el área de  un triángulo, por favor ingrese los siguientes datos: \n",
            "Ingrese la longitud del primer lado: 3.7\n",
            "Ingrese la longitud del segundo lado: 4.6\n",
            "Ingrese la longitud del tercer lado: 2.7\n",
            "El area del triángulo es:  5.0\n"
          ]
        }
      ]
    },
    {
      "cell_type": "markdown",
      "source": [
        "## Ejercicio 2"
      ],
      "metadata": {
        "id": "vJXNrk1s3WNa"
      }
    },
    {
      "cell_type": "markdown",
      "source": [
        "Cree una función que pueda calcular el índice de masa corporal (IMC) de una persona.\n",
        "\n",
        "La fórmula para calcular el IMC es la siguiente:\n",
        "\n",
        "IMC = peso/(altura^2)\n",
        "\n",
        "En esta fórmula el peso está en kilogramos y la altura en metros. Tenga en cuenta que el peso y la altura recibidos por su función estarán en libras y pulgadas respectivamente, ya que su función se utilizará en los Estados Unidos.\n",
        "\n",
        "Recuerda que:\n",
        "\n",
        "- 1 libra corresponde a 0,45 kg.\n",
        "\n",
        "- 1 pulgada corresponde a 0,025 metros.\n",
        "\n",
        "El valor devuelto debe redondearse a dos decimales.\n",
        "\n",
        "\n"
      ],
      "metadata": {
        "id": "D_d0hp_w3Z0x"
      }
    },
    {
      "cell_type": "code",
      "source": [
        "#vamos a crear un programa que calcule el IMC de una persona de EE-UU\n",
        "print('Bienvenido, vamos a calcular su imc, por favor ingrese los siguientes datos: ')\n",
        "peso = float(input('ingrese su peso en libras: '))\n",
        "altura = float(input('ingrese su altura en pulgadas: '))\n",
        "peso_kilos = peso * 0.45\n",
        "altura_metros = altura * 0.0254\n",
        "def imc(peso_kilos, altura_metros):\n",
        "  imc_generado = peso_kilos / (altura_metros ** 2)\n",
        "  return imc_generado\n",
        "\n",
        "imc1 = imc(peso_kilos, altura_metros)\n",
        "imc_round = round(imc1, 2)\n",
        "print(f'su imc calculado es: {imc_round}')"
      ],
      "metadata": {
        "id": "bJYyWjRc3Bdc",
        "colab": {
          "base_uri": "https://localhost:8080/"
        },
        "outputId": "fb17ff11-b2bb-4032-f962-53baf4470bbb"
      },
      "execution_count": null,
      "outputs": [
        {
          "output_type": "stream",
          "name": "stdout",
          "text": [
            "Bienvenido, vamos a calcular su imc, por favor ingrese los siguientes datos: \n",
            "ingrese su peso en libras: 45\n",
            "ingrese su altura en pulgadas: 15\n",
            "su imc calculado es: 139.5\n"
          ]
        }
      ]
    },
    {
      "cell_type": "code",
      "source": [
        "def calcular_imc(peso_lb, altura_inch):\n",
        "    # Conversiones\n",
        "    peso_kg = peso_lb * 0.45  # Convertir peso de libras a kilogramos\n",
        "    altura_m = altura_inch * 0.0254  # Convertir altura de pulgadas a metros\n",
        "\n",
        "    # Cálculo del IMC\n",
        "    imc = peso_kg / (altura_m ** 2)\n",
        "\n",
        "    # Redondear a dos decimales\n",
        "    imc_redondeado = round(imc, 2)\n",
        "\n",
        "    return imc_redondeado\n",
        "\n",
        "# Ejemplo de uso\n",
        "peso = float(input(\"Ingrese su peso en libras: \"))\n",
        "altura = float(input(\"Ingrese su altura en pulgadas: \"))\n",
        "\n",
        "imc = calcular_imc(peso, altura)\n",
        "print(f\"El índice de masa corporal (IMC) es: {imc}\")\n"
      ],
      "metadata": {
        "colab": {
          "base_uri": "https://localhost:8080/"
        },
        "id": "pHk6iysa10i0",
        "outputId": "515f689d-4d9e-49f2-e172-08d647e2eaf8"
      },
      "execution_count": null,
      "outputs": [
        {
          "output_type": "stream",
          "name": "stdout",
          "text": [
            "Ingrese su peso en libras: 45\n",
            "Ingrese su altura en pulgadas: 15\n",
            "El índice de masa corporal (IMC) es: 139.5\n"
          ]
        }
      ]
    }
  ]
}