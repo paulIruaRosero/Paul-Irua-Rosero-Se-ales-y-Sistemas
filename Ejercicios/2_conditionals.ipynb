{
  "nbformat": 4,
  "nbformat_minor": 0,
  "metadata": {
    "colab": {
      "provenance": [],
      "include_colab_link": true
    },
    "kernelspec": {
      "name": "python3",
      "display_name": "Python 3"
    },
    "language_info": {
      "name": "python"
    }
  },
  "cells": [
    {
      "cell_type": "markdown",
      "metadata": {
        "id": "view-in-github",
        "colab_type": "text"
      },
      "source": [
        "<a href=\"https://colab.research.google.com/github/paulIruaRosero/Paul-Irua-Rosero-Se-ales-y-Sistemas/blob/main/Ejercicios/2_conditionals.ipynb\" target=\"_parent\"><img src=\"https://colab.research.google.com/assets/colab-badge.svg\" alt=\"Open In Colab\"/></a>"
      ]
    },
    {
      "cell_type": "markdown",
      "source": [
        "# Condicionales"
      ],
      "metadata": {
        "id": "VTg9sEC1C3SO"
      }
    },
    {
      "cell_type": "markdown",
      "source": [
        "Para realizar condicionales en Python, debemos considerar que la sangría define cada sección de código a ejecutar.\n",
        "\n",
        "Aquí no utilizamos llaves ni ningún separador; en cambio, lo controlamos con sangría usando caracteres \"Tab\".\n",
        "\n",
        "Además, tanto las declaraciones \"if\" como \"else\" deben terminar con dos puntos (no incluirlas resultará en un error de sintaxis)"
      ],
      "metadata": {
        "id": "Rk_VXygMC7mm"
      }
    },
    {
      "cell_type": "code",
      "execution_count": null,
      "metadata": {
        "colab": {
          "base_uri": "https://localhost:8080/"
        },
        "id": "W1DdfxlTCEjM",
        "outputId": "2b689396-fef5-483e-e818-9323ffbae268"
      },
      "outputs": [
        {
          "output_type": "stream",
          "name": "stdout",
          "text": [
            "The condition is true.\n",
            "\n"
          ]
        }
      ],
      "source": [
        "a = True\n",
        "\n",
        "if a:\n",
        "  print(\"The condition is true.\\n\")#tab is included here\n",
        "else:\n",
        "  print(\"The condition is false.\\n\")#tab is included here"
      ]
    },
    {
      "cell_type": "code",
      "source": [
        "\n",
        "a = False\n",
        "\n",
        "if a:\n",
        "  print(\"The condition is true.\\n\")\n",
        "else:\n",
        "  print(\"The condition is false.\\n\")"
      ],
      "metadata": {
        "colab": {
          "base_uri": "https://localhost:8080/"
        },
        "id": "MQGsGj6xDu4n",
        "outputId": "ea97ece3-c9c5-43c7-e6f1-e7139b47ab7d"
      },
      "execution_count": null,
      "outputs": [
        {
          "output_type": "stream",
          "name": "stdout",
          "text": [
            "The condition is false.\n",
            "\n"
          ]
        }
      ]
    },
    {
      "cell_type": "markdown",
      "source": [
        "Recordando que las variables booleanas tienen su equivalente en números enteros, también podríamos realizar el condicional de la siguiente manera:"
      ],
      "metadata": {
        "id": "frC0vy0CDxxC"
      }
    },
    {
      "cell_type": "code",
      "source": [
        "a = 5\n",
        "\n",
        "if a: #a as an int variable\n",
        "  print(\"The condition is true.\\n\")\n",
        "else:\n",
        "  print(\"The condition is false.\\n\")"
      ],
      "metadata": {
        "colab": {
          "base_uri": "https://localhost:8080/"
        },
        "id": "xyRIhIhvD6Pa",
        "outputId": "37663186-f624-4355-acbc-a206c4b80fe8"
      },
      "execution_count": null,
      "outputs": [
        {
          "output_type": "stream",
          "name": "stdout",
          "text": [
            "The condition is true.\n",
            "\n"
          ]
        }
      ]
    },
    {
      "cell_type": "code",
      "source": [
        "a = 0\n",
        "\n",
        "if a:\n",
        "  print(\"The condition is true.\\n\")\n",
        "else:\n",
        "  print(\"The condition is false.\\n\")"
      ],
      "metadata": {
        "colab": {
          "base_uri": "https://localhost:8080/"
        },
        "id": "DbzDH0qwD8QQ",
        "outputId": "a75b4c52-a06d-4aad-8fc3-49eac57d8f83"
      },
      "execution_count": null,
      "outputs": [
        {
          "output_type": "stream",
          "name": "stdout",
          "text": [
            "The condition is false.\n",
            "\n"
          ]
        }
      ]
    },
    {
      "cell_type": "markdown",
      "source": [
        "Muchas veces es necesario utilizar sentencias if anidadas. Para ello, la declaración \"elif\" es muy útil."
      ],
      "metadata": {
        "id": "fNWEc7KmEDj4"
      }
    },
    {
      "cell_type": "code",
      "source": [
        "\n",
        "a = True\n",
        "b = True\n",
        "\n",
        "if a:\n",
        "  print(\"Condition 1 is true.\\n\")\n",
        "elif b:\n",
        "  print(\"Condition 2 is true.\\n\")\n"
      ],
      "metadata": {
        "colab": {
          "base_uri": "https://localhost:8080/"
        },
        "id": "OP3rdF2nD_eX",
        "outputId": "129cb97d-ff0c-4fcb-df42-3cb3d990824a"
      },
      "execution_count": null,
      "outputs": [
        {
          "output_type": "stream",
          "name": "stdout",
          "text": [
            "Condition 1 is true.\n",
            "\n"
          ]
        }
      ]
    },
    {
      "cell_type": "code",
      "source": [
        "a = False\n",
        "b = True\n",
        "\n",
        "if a:\n",
        "  print(\"Condition 1 is true.\\n\")\n",
        "elif b:\n",
        "  print(\"Condition 2 is true.\\n\")\n"
      ],
      "metadata": {
        "colab": {
          "base_uri": "https://localhost:8080/"
        },
        "id": "MAPP8N-GEuiO",
        "outputId": "e7254696-5cd0-49fe-c2ba-316cf49a2652"
      },
      "execution_count": null,
      "outputs": [
        {
          "output_type": "stream",
          "name": "stdout",
          "text": [
            "Condition 2 is true.\n",
            "\n"
          ]
        }
      ]
    },
    {
      "cell_type": "markdown",
      "source": [
        "En este caso, primero verificamos si la condición a es verdadera, pero si no, no imprimimos directamente el segundo mensaje. En cambio, ahora verificamos si la condición b es verdadera o no (la segunda condición solo se evalúa si la primera no fue verdadera).\n",
        "\n",
        "Podemos agregar una declaración else al final, que se ejecutaría si ninguna de las condiciones anteriores es verdadera (la opción final)."
      ],
      "metadata": {
        "id": "MI1yZs1eExGO"
      }
    },
    {
      "cell_type": "code",
      "source": [
        "\n",
        "a = False\n",
        "b = True\n",
        "\n",
        "if a:\n",
        "  print(\"Condition 1 is true.\\n\")\n",
        "elif b:\n",
        "  print(\"Condition 2 is true.\\n\")\n",
        "else:\n",
        "  print(\"Both conditions are false.\\n\")"
      ],
      "metadata": {
        "colab": {
          "base_uri": "https://localhost:8080/"
        },
        "id": "FghUVGjVFRZM",
        "outputId": "644d9fae-92e2-4961-a64a-d8af616b8462"
      },
      "execution_count": null,
      "outputs": [
        {
          "output_type": "stream",
          "name": "stdout",
          "text": [
            "Condition 2 is true.\n",
            "\n"
          ]
        }
      ]
    },
    {
      "cell_type": "code",
      "source": [
        "\n",
        "a = False\n",
        "b = False\n",
        "\n",
        "if a:\n",
        "  print(\"Condition 1 is true.\\n\")\n",
        "elif b:\n",
        "  print(\"Condition 2 is true.\\n\")\n",
        "else:\n",
        "  print(\"Both conditions are false.\\n\")"
      ],
      "metadata": {
        "colab": {
          "base_uri": "https://localhost:8080/"
        },
        "id": "A5QLFL4VFZsQ",
        "outputId": "7fe73a60-6f3b-43b6-b232-300f1e1bd837"
      },
      "execution_count": null,
      "outputs": [
        {
          "output_type": "stream",
          "name": "stdout",
          "text": [
            "Both conditions are false.\n",
            "\n"
          ]
        }
      ]
    },
    {
      "cell_type": "markdown",
      "source": [
        "De manera similar, podemos anidar directamente las declaraciones if si solo queremos que se evalúe la condición posterior si la anterior es verdadera."
      ],
      "metadata": {
        "id": "P9HDhYXtKX7K"
      }
    },
    {
      "cell_type": "code",
      "source": [
        "a = True\n",
        "b = True\n",
        "\n",
        "if a:\n",
        "  if b:\n",
        "    print(\"a and b are true.\\n\")#double tab is required here!\n",
        "  else:\n",
        "    print(\"a is true but b is false.\\n\")\n",
        "else:\n",
        "  print(\"a is not true.\\n\")"
      ],
      "metadata": {
        "colab": {
          "base_uri": "https://localhost:8080/"
        },
        "id": "AuBe0qhdKXU7",
        "outputId": "6dec71cd-7fc8-4b08-8a92-23b04b0ae620"
      },
      "execution_count": null,
      "outputs": [
        {
          "output_type": "stream",
          "name": "stdout",
          "text": [
            "a and b are true.\n",
            "\n"
          ]
        }
      ]
    },
    {
      "cell_type": "code",
      "source": [
        "a = False\n",
        "b = False\n",
        "\n",
        "if a:\n",
        "  if b:\n",
        "    print(\"a and b are true.\\n\")\n",
        "  else:\n",
        "    print(\"a is true but b is false.\\n\")\n",
        "else:\n",
        "  print(\"a is not true.\\n\")"
      ],
      "metadata": {
        "colab": {
          "base_uri": "https://localhost:8080/"
        },
        "id": "oxH42MDxLIvk",
        "outputId": "d1229715-dde7-4d78-8fd9-c497ed149e7c"
      },
      "execution_count": null,
      "outputs": [
        {
          "output_type": "stream",
          "name": "stdout",
          "text": [
            "a is not true.\n",
            "\n"
          ]
        }
      ]
    },
    {
      "cell_type": "code",
      "source": [
        "a = False\n",
        "b = False\n",
        "\n",
        "if a:\n",
        "  if b:\n",
        "    print(\"a and b are true.\\n\")\n",
        "  else:\n",
        "    print(\"a is true but b is false.\\n\")\n",
        "else:\n",
        "  print(\"a is not true.\\n\")"
      ],
      "metadata": {
        "colab": {
          "base_uri": "https://localhost:8080/"
        },
        "id": "CFjjpC7ILL7D",
        "outputId": "19453a40-67e3-434a-f20d-ecdea62ac288"
      },
      "execution_count": null,
      "outputs": [
        {
          "output_type": "stream",
          "name": "stdout",
          "text": [
            "a is not true.\n",
            "\n"
          ]
        }
      ]
    },
    {
      "cell_type": "code",
      "source": [
        "\n",
        "a = False\n",
        "b = True\n",
        "\n",
        "if a:\n",
        "  if b:\n",
        "    print(\"a and b are true.\\n\")\n",
        "  else:\n",
        "    print(\"a is true but b is false.\\n\")\n",
        "else:\n",
        "  print(\"a is not true.\\n\")"
      ],
      "metadata": {
        "colab": {
          "base_uri": "https://localhost:8080/"
        },
        "id": "2_WzD4IILR6D",
        "outputId": "185e3e72-0885-4840-ea6d-c120d19b5b4a"
      },
      "execution_count": null,
      "outputs": [
        {
          "output_type": "stream",
          "name": "stdout",
          "text": [
            "a is not true.\n",
            "\n"
          ]
        }
      ]
    },
    {
      "cell_type": "markdown",
      "source": [
        "En otros idiomas, el signo de exclamación (!) se puede utilizar para evaluar la negación lógica de una variable.\n",
        "\n",
        "En Python, podemos usar la palabra clave \"no\" antes de la variable para lograr el mismo efecto."
      ],
      "metadata": {
        "id": "iVTrietnGmkB"
      }
    },
    {
      "cell_type": "code",
      "source": [
        "not True"
      ],
      "metadata": {
        "colab": {
          "base_uri": "https://localhost:8080/"
        },
        "id": "d9EjgT7nG76A",
        "outputId": "62f90282-cee7-43ab-b259-70ea677e7578"
      },
      "execution_count": null,
      "outputs": [
        {
          "output_type": "execute_result",
          "data": {
            "text/plain": [
              "False"
            ]
          },
          "metadata": {},
          "execution_count": 3
        }
      ]
    },
    {
      "cell_type": "code",
      "source": [
        "not False"
      ],
      "metadata": {
        "colab": {
          "base_uri": "https://localhost:8080/"
        },
        "id": "SuMYbT_JG9pK",
        "outputId": "4301fa3f-a46a-4f48-db22-32c548ecd475"
      },
      "execution_count": null,
      "outputs": [
        {
          "output_type": "execute_result",
          "data": {
            "text/plain": [
              "True"
            ]
          },
          "metadata": {},
          "execution_count": 17
        }
      ]
    },
    {
      "cell_type": "code",
      "source": [
        "not 8"
      ],
      "metadata": {
        "colab": {
          "base_uri": "https://localhost:8080/"
        },
        "id": "dHpVP55rG_Rl",
        "outputId": "bea3200c-f8de-4ced-96e5-0cd81f79d793"
      },
      "execution_count": null,
      "outputs": [
        {
          "output_type": "execute_result",
          "data": {
            "text/plain": [
              "False"
            ]
          },
          "metadata": {},
          "execution_count": 18
        }
      ]
    },
    {
      "cell_type": "code",
      "source": [
        "not 0"
      ],
      "metadata": {
        "colab": {
          "base_uri": "https://localhost:8080/"
        },
        "id": "x3dpCJ2jHBpH",
        "outputId": "73f5f473-fe85-4cec-d3cb-ea2b01cc60b5"
      },
      "execution_count": null,
      "outputs": [
        {
          "output_type": "execute_result",
          "data": {
            "text/plain": [
              "True"
            ]
          },
          "metadata": {},
          "execution_count": 19
        }
      ]
    },
    {
      "cell_type": "code",
      "source": [
        "a = True\n",
        "b = True\n",
        "\n",
        "if not a:\n",
        "  print(\"Condition 1 is true.\\n\")\n",
        "elif b:\n",
        "  print(\"Condition 2 is true.\\n\")\n",
        "else:\n",
        "  print(\"Both conditions are false.\\n\")"
      ],
      "metadata": {
        "colab": {
          "base_uri": "https://localhost:8080/"
        },
        "id": "26Fu_3KhG0bC",
        "outputId": "c8ba582a-d5e6-4247-8816-bf453ce84bcf"
      },
      "execution_count": null,
      "outputs": [
        {
          "output_type": "stream",
          "name": "stdout",
          "text": [
            "Condition 2 is true.\n",
            "\n"
          ]
        }
      ]
    },
    {
      "cell_type": "markdown",
      "source": [
        "Por otro lado, no siempre necesitamos evaluar las condiciones por separado sino crear expresiones lógicas con ellas. Para ello disponemos de los siguientes operadores:\n",
        "\n",
        ". Operadoes Lógicos: \"or\", \"and\"\n",
        "\n",
        ". Operadores de Comparación: <, >, <=, >=, ==, !="
      ],
      "metadata": {
        "id": "jMy5rePdFjNg"
      }
    },
    {
      "cell_type": "code",
      "source": [
        "a = False\n",
        "b = False\n",
        "\n",
        "if a or b:\n",
        "  print(\"At least one condition is true.\\n\")\n",
        "else:\n",
        "  print(\"It's not any value.\")"
      ],
      "metadata": {
        "colab": {
          "base_uri": "https://localhost:8080/"
        },
        "id": "wnuvPyZBHVgC",
        "outputId": "fa46dc75-fca1-416c-ea0e-62fcab27b531"
      },
      "execution_count": null,
      "outputs": [
        {
          "output_type": "stream",
          "name": "stdout",
          "text": [
            "It's not any value.\n"
          ]
        }
      ]
    },
    {
      "cell_type": "code",
      "source": [
        "a = 3\n",
        "b = 4\n",
        "\n",
        "if a != b:\n",
        "  print(\"The numbers are different.\\n\")"
      ],
      "metadata": {
        "colab": {
          "base_uri": "https://localhost:8080/"
        },
        "id": "xPraa9wBHfR8",
        "outputId": "9a042a8a-e9f7-499a-c968-65f89f684ec1"
      },
      "execution_count": null,
      "outputs": [
        {
          "output_type": "stream",
          "name": "stdout",
          "text": [
            "The numbers are different.\n",
            "\n"
          ]
        }
      ]
    },
    {
      "cell_type": "code",
      "source": [
        "a = 4\n",
        "b = 4\n",
        "\n",
        "if a == b:\n",
        "  print(\"The numbers are equal.\\n\")"
      ],
      "metadata": {
        "colab": {
          "base_uri": "https://localhost:8080/"
        },
        "id": "agG1ggz0IBuz",
        "outputId": "28463dd0-ce3e-4f27-c824-017ec05988be"
      },
      "execution_count": null,
      "outputs": [
        {
          "output_type": "stream",
          "name": "stdout",
          "text": [
            "The numbers are equal.\n",
            "\n"
          ]
        }
      ]
    },
    {
      "cell_type": "code",
      "source": [
        "a = 1\n",
        "b = 2\n",
        "c = 3\n",
        "\n",
        "if a < b < c:\n",
        "  print(\"The order is ascending.\\n\")"
      ],
      "metadata": {
        "id": "2WlutQYmIIe3",
        "colab": {
          "base_uri": "https://localhost:8080/"
        },
        "outputId": "50cddef0-57ad-462d-ff66-902ba9567c7b"
      },
      "execution_count": null,
      "outputs": [
        {
          "output_type": "stream",
          "name": "stdout",
          "text": [
            "The order is ascending.\n",
            "\n"
          ]
        }
      ]
    },
    {
      "cell_type": "code",
      "source": [
        "a = 3\n",
        "b = 2\n",
        "c = 3\n",
        "\n",
        "if a < b < c:\n",
        "  print(\"The order is ascending.\\n\")\n",
        "else:\n",
        "  print(a + b + c)\n"
      ],
      "metadata": {
        "colab": {
          "base_uri": "https://localhost:8080/"
        },
        "id": "b3sQXrU0IThJ",
        "outputId": "82836073-d8f3-4ef8-aed6-268a8e2f8775"
      },
      "execution_count": null,
      "outputs": [
        {
          "output_type": "stream",
          "name": "stdout",
          "text": [
            "8\n"
          ]
        }
      ]
    },
    {
      "cell_type": "markdown",
      "source": [
        "When multiple chained comparisons like the previous ones are performed, Python always evaluates them from left to right in pairs."
      ],
      "metadata": {
        "id": "AC2xrm2AIcic"
      }
    },
    {
      "cell_type": "markdown",
      "source": [
        "En aplicaciones más avanzadas, utilizando listas, tuplas, diccionarios o clases, existen otras formas de expresar condiciones que son útiles para abordar problemas más complejos.\n",
        "\n",
        "Un ejemplo rápido, no tan complejo, es el uso de la palabra clave \"in\", que se utiliza para cadenas o matrices de números."
      ],
      "metadata": {
        "id": "mAsFtIP5IltC"
      }
    },
    {
      "cell_type": "code",
      "source": [
        "a = [1, 2, 3]\n",
        "b = 2\n",
        "\n",
        "if b in a:\n",
        "  print(\"a contains the value of b.\\n\")\n",
        "else:\n",
        "  print(\"a does not contain the value of b.\\n\")"
      ],
      "metadata": {
        "colab": {
          "base_uri": "https://localhost:8080/"
        },
        "id": "yrBhgY0mI9Ci",
        "outputId": "b29b5810-3203-45f9-d0e9-6e130c88ee18"
      },
      "execution_count": null,
      "outputs": [
        {
          "output_type": "stream",
          "name": "stdout",
          "text": [
            "a contains the value of b.\n",
            "\n"
          ]
        }
      ]
    },
    {
      "cell_type": "code",
      "source": [
        "a = [1, 2, 3]\n",
        "b = 4\n",
        "\n",
        "if b in a:\n",
        "  print(\"a contains the value of b.\\n\")\n",
        "else:\n",
        "  print(\"a does not contain the value of b.\\n\")"
      ],
      "metadata": {
        "colab": {
          "base_uri": "https://localhost:8080/"
        },
        "id": "GlFDLbP-JzM0",
        "outputId": "85bd4d57-9fcf-4579-b659-2783a64ab292"
      },
      "execution_count": null,
      "outputs": [
        {
          "output_type": "stream",
          "name": "stdout",
          "text": [
            "a does not contain the value of b.\n",
            "\n"
          ]
        }
      ]
    },
    {
      "cell_type": "code",
      "source": [
        "if(\"Hi\" in \"this is a good example\"):\n",
        "  print(\"Word found.\\n\")\n",
        "else:\n",
        "  print(\"Word not found\")"
      ],
      "metadata": {
        "colab": {
          "base_uri": "https://localhost:8080/"
        },
        "id": "mvgyY8s2J2jN",
        "outputId": "f33de744-f8c0-4e5d-f1ac-acaa64e3a536"
      },
      "execution_count": null,
      "outputs": [
        {
          "output_type": "stream",
          "name": "stdout",
          "text": [
            "Word not found\n"
          ]
        }
      ]
    },
    {
      "cell_type": "markdown",
      "source": [
        "\n",
        "## Ejercicios:\n",
        "\n",
        "1. Para poder pagar un determinado impuesto es necesario ser mayor de 16 años y tener unos ingresos mensuales iguales o superiores a 1.000€. Escriba un programa que pregunte al usuario su edad e ingresos mensuales y muestre si el usuario tiene que pagar el impuesto o no.\n",
        "\n",
        "\n",
        "2. La pizzería Bella Napoli ofrece pizzas vegetarianas y no vegetarianas a sus clientes. Los ingredientes para cada tipo de pizza son los siguientes:\n",
        "\n",
        "Ingredientes vegetarianos: Pimientos morrones y tofu.\n",
        "\n",
        "Ingredientes no vegetarianos: pepperoni, jamón y salmón.\n",
        "\n",
        "Escribe un programa que pregunte al usuario si quiere una pizza vegetariana o no y, en función de su respuesta, muestre un menú con los ingredientes disponibles para que elija. Sólo se puede elegir un ingrediente adicional además de la mozzarella y el tomate, que están incluidos en todas las pizzas. Finalmente, el programa deberá mostrar si la pizza elegida es vegetariana o no, junto con todos los ingredientes que contiene."
      ],
      "metadata": {
        "id": "fO1RHJGAiIp2"
      }
    },
    {
      "cell_type": "markdown",
      "source": [
        "Developed by:\n",
        "\n",
        "- Brian Patino Agudelo - bpatinoa@unal.edu.co\n",
        "\n",
        "- Andrés Marino Álvarez Meza - amalvarezme@unal.edu.co\n",
        "\n",
        "- César Germán Castellanos Domínguez - cgcastellanosd@unal.edu.co"
      ],
      "metadata": {
        "id": "QQg2r04O174w"
      }
    },
    {
      "cell_type": "markdown",
      "source": [
        "## Solución:"
      ],
      "metadata": {
        "id": "bqIUGsje4aUg"
      }
    },
    {
      "cell_type": "code",
      "source": [
        "#vmaos a crear un programa que pida al ususario su edad y sus ingresos mensuales\n",
        "edad = int(input('Hola, por favor ingrese su edad: '))\n",
        "ingresos = float(input('Ahora ingrese su salario mensual'))\n",
        "\n",
        "if edad >= 16 and ingresos >= 1000:\n",
        "  print('Usted debe pagar el impuesto')\n",
        "else:\n",
        "  print('Usted no debe pagar el impuesto')\n",
        "print('Gracias por su tiempo')"
      ],
      "metadata": {
        "id": "KIWL9EGb7SIR",
        "colab": {
          "base_uri": "https://localhost:8080/"
        },
        "outputId": "c72cf6f5-9415-407f-eab4-56dcb2083add"
      },
      "execution_count": null,
      "outputs": [
        {
          "output_type": "stream",
          "name": "stdout",
          "text": [
            "Hola, por favor ingrese su edad: 14\n",
            "Ahora ingrese su salario mensual22\n",
            "Usted no debe pagar el impuesto\n",
            "Gracias por su tiempo\n"
          ]
        }
      ]
    },
    {
      "cell_type": "code",
      "source": [
        "#vamos a crar un programa que le pregunte al ususario si desea una pizza vegetariana o no y según su respuesta se le muestre un menu de ingredientes\n",
        "print('Bienvendio a la pizzeria Bella Napoli, ofrecemos pizzas vegetarianas y no vegetarianas')\n",
        "\n",
        "#creamos una función que le pregunta al ususario cual pizza desea\n",
        "def pregunta():\n",
        "  respuesta = input('¿Le gustaría una pizza vegetariana? (si/no): ').lower()\n",
        "  if respuesta == 'si' or respuesta == 'no':\n",
        "    return respuesta\n",
        "  else:\n",
        "    print('Error: solo se aceptan respuestas como si o no, por favor vuelva a correr el programa')\n",
        "\n",
        "#llamamos a la función definida anteriormente\n",
        "opcion = pregunta()\n",
        "if opcion == 'si':\n",
        "  print('muy bien, vamos a mostrar la selección de ingredientes para las pizzas vegetarianas: ')\n",
        "  print('ingredientes disponibles: pimientos morrones y tofu')\n",
        "  print('por favor elija cual de estos ingredientes le gustaría en su pizza: ')\n",
        "  eleccion1 = input('escriba el ingrediente que desea: ')\n",
        "  print('muy bien, su pizza contiene los siguientes ingredientes: ')\n",
        "  print('Mozzarella')\n",
        "  print('Tomate')\n",
        "  print(eleccion1)\n",
        "  print('que tenga un buen día')\n",
        "\n",
        "elif opcion == 'no':\n",
        "  print('muy bien, vamos a mostrar la selección de ingredientes para las pizzas no vegetarianas: ')\n",
        "  print('ingredientes disponibles: pepperoni, jamón y salmón')\n",
        "  print('por favor elija cual de estos ingredientes le gustaría en su pizza: ')\n",
        "  eleccion2 = input('escriba el ingrediente que desea: ')\n",
        "  print('muy bien, su pizza contiene los siguientes ingredientes: ')\n",
        "  print('Mozzarella')\n",
        "  print('Tomate')\n",
        "  print(eleccion2)\n",
        "  print('que tenga un buen día')"
      ],
      "metadata": {
        "colab": {
          "base_uri": "https://localhost:8080/"
        },
        "id": "THHGdsl65V9Y",
        "outputId": "b0aea61d-8fdd-4199-c6cf-77e1b9af7e14"
      },
      "execution_count": null,
      "outputs": [
        {
          "output_type": "stream",
          "name": "stdout",
          "text": [
            "Bienvendio a la pizzeria Bella Napoli, ofrecemos pizzas vegetarianas y no vegetarianas\n",
            "¿Le gustaría una pizza vegetariana? (si/no): no\n",
            "muy bien, vamos a mostrar la selección de ingredientes para las pizzas no vegetarianas: \n",
            "ingredientes disponibles: pepperoni, jamón y salmón\n",
            "por favor elija cual de estos ingredientes le gustaría en su pizza: \n",
            "escriba el ingrediente que desea: pepperoni\n",
            "muy bien, su pizza contiene los siguientes ingredientes: \n",
            "Mozzarella\n",
            "Tomate\n",
            "pepperoni\n",
            "que tenga un buen día\n"
          ]
        }
      ]
    },
    {
      "cell_type": "code",
      "source": [
        "# Menú de ingredientes\n",
        "ingredientes_vegetarianos = ['Pimientos morrones', 'Tofu']\n",
        "ingredientes_no_vegetarianos = ['Pepperoni', 'Jamon', 'Salmón']\n",
        "\n",
        "# Pedir al usuario si quiere una pizza vegetariana o no\n",
        "tipo_pizza = input(\"¿Quieres una pizza vegetariana o no vegetariana? (responde 'vegetariana' o 'no vegetariana'): \").lower()\n",
        "\n",
        "# Inicializar lista de ingredientes\n",
        "ingredientes = ['Mozzarella', 'Tomate']\n",
        "\n",
        "# Verificar el tipo de pizza y mostrar el menú adecuado\n",
        "if tipo_pizza == 'vegetariana':\n",
        "    print(\"Ingredientes vegetarianos disponibles:\")\n",
        "    for ingrediente in ingredientes_vegetarianos:\n",
        "        print(f\"- {ingrediente}\")\n",
        "    # Preguntar al usuario por el ingrediente adicional\n",
        "    eleccion = input(\"Elige un ingrediente adicional (solo uno): \").capitalize()\n",
        "    if eleccion in ingredientes_vegetarianos:\n",
        "        ingredientes.append(eleccion)\n",
        "    else:\n",
        "        print(\"Opción inválida, no se agregó ingrediente adicional.\")\n",
        "elif tipo_pizza == 'no vegetariana':\n",
        "    print(\"Ingredientes no vegetarianos disponibles:\")\n",
        "    for ingrediente in ingredientes_no_vegetarianos:\n",
        "        print(f\"- {ingrediente}\")\n",
        "    # Preguntar al usuario por el ingrediente adicional\n",
        "    eleccion = input(\"Elige un ingrediente adicional (solo uno): \").capitalize()\n",
        "    if eleccion in ingredientes_no_vegetarianos:\n",
        "        ingredientes.append(eleccion)\n",
        "    else:\n",
        "        print(\"Opción inválida, no se agregó ingrediente adicional.\")\n",
        "else:\n",
        "    print(\"Opción no válida. Por favor, elige entre 'vegetariana' o 'no vegetariana'.\")\n",
        "\n",
        "# Mostrar la pizza final con sus ingredientes\n",
        "print(\"\\nTu pizza final contiene los siguientes ingredientes:\")\n",
        "print(f\"Tipo de pizza: {tipo_pizza.capitalize()}\")\n",
        "for ingrediente in ingredientes:\n",
        "    print(f\"- {ingrediente}\")\n"
      ],
      "metadata": {
        "colab": {
          "base_uri": "https://localhost:8080/"
        },
        "id": "RF6CpNV7GFO-",
        "outputId": "59106f65-6714-4135-cda7-d6ad19527f38"
      },
      "execution_count": null,
      "outputs": [
        {
          "output_type": "stream",
          "name": "stdout",
          "text": [
            "¿Quieres una pizza vegetariana o no vegetariana? (responde 'vegetariana' o 'no vegetariana'): vegetariana\n",
            "Ingredientes vegetarianos disponibles:\n",
            "- Pimientos morrones\n",
            "- Tofu\n",
            "Elige un ingrediente adicional (solo uno): Tofu\n",
            "\n",
            "Tu pizza final contiene los siguientes ingredientes:\n",
            "Tipo de pizza: Vegetariana\n",
            "- Mozzarella\n",
            "- Tomate\n",
            "- Tofu\n"
          ]
        }
      ]
    }
  ]
}