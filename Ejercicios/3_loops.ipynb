{
  "nbformat": 4,
  "nbformat_minor": 0,
  "metadata": {
    "colab": {
      "provenance": [],
      "include_colab_link": true
    },
    "kernelspec": {
      "name": "python3",
      "display_name": "Python 3"
    },
    "language_info": {
      "name": "python"
    }
  },
  "cells": [
    {
      "cell_type": "markdown",
      "metadata": {
        "id": "view-in-github",
        "colab_type": "text"
      },
      "source": [
        "<a href=\"https://colab.research.google.com/github/paulIruaRosero/Paul-Irua-Rosero-Se-ales-y-Sistemas/blob/main/Ejercicios/3_loops.ipynb\" target=\"_parent\"><img src=\"https://colab.research.google.com/assets/colab-badge.svg\" alt=\"Open In Colab\"/></a>"
      ]
    },
    {
      "cell_type": "markdown",
      "source": [
        "# Bucles"
      ],
      "metadata": {
        "id": "uRd8KNK1kQsX"
      }
    },
    {
      "cell_type": "markdown",
      "source": [
        "En Python, tenemos dos estructuras para bucles: el bucle for y el bucle while (no existe un bucle do- while).\n",
        "\n",
        "Es importante tener claro los conceptos de contador y acumulador, ya que son fundamentales a la hora de trabajar con cualquier tipo de bucle.\n",
        "\n",
        "Un contador es una variable que realiza un seguimiento del número de veces que ocurre un evento o condición en particular. Se usa comúnmente en bucles para controlar el proceso de iteración. El contador generalmente se inicializa antes de que comience el ciclo y se incrementa o disminuye con cada iteración.\n",
        "\n",
        "Un acumulador, por otro lado, es una variable que acumula o recopila valores a lo largo de múltiples iteraciones de un bucle. A menudo se utiliza para calcular una suma, un producto o cualquier otro valor agregado en función de los valores obtenidos durante cada iteración del ciclo. El acumulador normalmente se inicializa antes del bucle y se actualiza dentro del cuerpo del bucle.\n",
        "\n",
        "Tanto los contadores como los acumuladores desempeñan funciones cruciales en el control y la gestión del flujo de un bucle, lo que le permite realizar acciones específicas basadas en el estado actual o el progreso de la iteración del bucle."
      ],
      "metadata": {
        "id": "3Z9f8FGZmx-c"
      }
    },
    {
      "cell_type": "markdown",
      "source": [
        "# While"
      ],
      "metadata": {
        "id": "Mrm12NZVqkuI"
      }
    },
    {
      "cell_type": "markdown",
      "source": [
        "También se llaman bucles indeterminados, y se utilizan cuando sabemos la condición que se debe cumplir para finalizar el bucle, pero no sabemos cuántas veces ni cuánto tiempo va a tardar."
      ],
      "metadata": {
        "id": "WJfkhkJqqoeg"
      }
    },
    {
      "cell_type": "code",
      "source": [
        "condition = 1\n",
        "while condition:\n",
        "  print('Instructions inside the loop')\n",
        "  condition = 0\n",
        "print('Instructions outside the loop')"
      ],
      "metadata": {
        "id": "DA7VKxA1r7Nr",
        "colab": {
          "base_uri": "https://localhost:8080/"
        },
        "outputId": "dde352cf-55f0-4cfe-d180-228098a3c1fb"
      },
      "execution_count": null,
      "outputs": [
        {
          "output_type": "stream",
          "name": "stdout",
          "text": [
            "Instructions inside the loop\n",
            "Instructions outside the loop\n"
          ]
        }
      ]
    },
    {
      "cell_type": "markdown",
      "source": [
        "La estructura del bucle es muy sencilla, ya que lo único que hay que especificar es la condición que se debe cumplir para continuar en el bucle. Esencialmente, funciona de manera similar a una declaración if() condicional, excepto que el código dentro del bucle se ejecutará tantas veces como sea necesario siempre que la condición sea verdadera."
      ],
      "metadata": {
        "id": "yaBIfZnxsDkm"
      }
    },
    {
      "cell_type": "markdown",
      "source": [
        "Dado que el bucle puede entenderse como una declaración condicional, funciona de la misma manera para los valores booleanos, así como para los valores 1 y 0 explicados en otros materiales."
      ],
      "metadata": {
        "id": "WPIk5_K98Zm_"
      }
    },
    {
      "cell_type": "code",
      "source": [
        "a = 1\n",
        "while a:\n",
        "  print(\"Choose an option:\\n1. ---\\n2. ---\\n0. Exit\\n\\n\")\n",
        "  a = int(input())\n"
      ],
      "metadata": {
        "colab": {
          "base_uri": "https://localhost:8080/"
        },
        "id": "hyjsllWj8mxh",
        "outputId": "56575e6c-f215-4b80-f9e1-f1cd4b45957f"
      },
      "execution_count": null,
      "outputs": [
        {
          "name": "stdout",
          "output_type": "stream",
          "text": [
            "Choose an option:\n",
            "1. ---\n",
            "2. ---\n",
            "0. Exit\n",
            "\n",
            "\n",
            "1\n",
            "Choose an option:\n",
            "1. ---\n",
            "2. ---\n",
            "0. Exit\n",
            "\n",
            "\n",
            "2\n",
            "Choose an option:\n",
            "1. ---\n",
            "2. ---\n",
            "0. Exit\n",
            "\n",
            "\n",
            "0\n"
          ]
        }
      ]
    },
    {
      "cell_type": "markdown",
      "source": [
        "En el ejemplo anterior, nos basamos en el valor de 'a' como condición para el bucle.\n",
        "\n",
        "Sin embargo, asignar un valor de antemano a veces puede causar problemas.\n",
        "\n",
        "Otra forma de hacerlo es realizando directamente una comparación como condición del bucle."
      ],
      "metadata": {
        "id": "7aMLABfg-56z"
      }
    },
    {
      "cell_type": "code",
      "source": [
        "number = int(input('Enter an integer number. 0 to finish: '))\n",
        "\n",
        "while number != 0:\n",
        "    number = int(input('Enter an integer number. 0 to finish: '))\n",
        "\n",
        "print('End of the program.')"
      ],
      "metadata": {
        "id": "XbbgoZmy-peb",
        "colab": {
          "base_uri": "https://localhost:8080/"
        },
        "outputId": "a4f949e0-cdae-44e7-97cb-dcfcedaf5670"
      },
      "execution_count": null,
      "outputs": [
        {
          "output_type": "stream",
          "name": "stdout",
          "text": [
            "Enter an integer number. 0 to finish: 5\n",
            "Enter an integer number. 0 to finish: 0\n",
            "End of the program.\n"
          ]
        }
      ]
    },
    {
      "cell_type": "markdown",
      "source": [
        "Entonces, es posible utilizar bucles infinitos como while(True) o while(1) si es necesario que algo se ejecute todo el tiempo.\n",
        "\n",
        "Aunque no es ideal usarlo con el bucle while(), existe la sentencia break, que permite salir del bucle en los escenarios anteriores, en caso de que sea crítico no ejecutar las líneas restantes antes de finalizar el bucle. ."
      ],
      "metadata": {
        "id": "Zo4CJm8Y1F6v"
      }
    },
    {
      "cell_type": "markdown",
      "source": [
        "Un error común al usar bucles while() consiste en no actualizar la variable de control, creando así un bucle infinito no intencional (un error en el código)."
      ],
      "metadata": {
        "id": "pzRE4NGG3BzJ"
      }
    },
    {
      "cell_type": "code",
      "source": [
        "i = 0\n",
        "\n",
        "# Run this loop as long as i is less than 15\n",
        "while i < 15:\n",
        "    # Show a message\n",
        "    print(\"¡Hello world!\")\n",
        "    i+=1\n",
        "\n"
      ],
      "metadata": {
        "colab": {
          "base_uri": "https://localhost:8080/"
        },
        "id": "_Nue_w3kD8hM",
        "outputId": "e3e47a1c-650b-4747-90b2-52ed4c86513b"
      },
      "execution_count": null,
      "outputs": [
        {
          "output_type": "stream",
          "name": "stdout",
          "text": [
            "¡Hello world!\n",
            "¡Hello world!\n",
            "¡Hello world!\n",
            "¡Hello world!\n",
            "¡Hello world!\n",
            "¡Hello world!\n",
            "¡Hello world!\n",
            "¡Hello world!\n",
            "¡Hello world!\n",
            "¡Hello world!\n",
            "¡Hello world!\n",
            "¡Hello world!\n",
            "¡Hello world!\n",
            "¡Hello world!\n",
            "¡Hello world!\n"
          ]
        }
      ]
    },
    {
      "cell_type": "code",
      "source": [
        "4%2 #the % operator give you the residual between the numbers!"
      ],
      "metadata": {
        "colab": {
          "base_uri": "https://localhost:8080/"
        },
        "id": "czWXNiR63RrX",
        "outputId": "783d886e-f3d7-45b4-ea4b-94d5974b2c42"
      },
      "execution_count": null,
      "outputs": [
        {
          "output_type": "execute_result",
          "data": {
            "text/plain": [
              "0"
            ]
          },
          "metadata": {},
          "execution_count": 8
        }
      ]
    },
    {
      "cell_type": "markdown",
      "source": [
        "# For"
      ],
      "metadata": {
        "id": "44UnVO99qBW8"
      }
    },
    {
      "cell_type": "markdown",
      "source": [
        "Los bucles for() se utilizan para tener un control total de cuántas iteraciones se realizarán.\n",
        "\n",
        "Es necesario tener un valor \"inicial\" y un valor \"final\".\n",
        "\n",
        "Opcionalmente podemos tener un tamaño de paso determinado.\n",
        "\n",
        "A diferencia de C, por ejemplo, donde tenemos todos estos argumentos en la declaración de bucle, en Python tenemos que usar la función [rango](https://www.w3schools.com/python/ref_func_range.asp)."
      ],
      "metadata": {
        "id": "ctcL3DMt5sW0"
      }
    },
    {
      "cell_type": "code",
      "execution_count": null,
      "metadata": {
        "id": "ClsJH4_skOmN"
      },
      "outputs": [],
      "source": [
        "#for counter_variable in range(initial_value, final_value, step_size):\n",
        "\n",
        "    # code within the loop\n",
        "\n",
        "\n",
        "# code out of the loop"
      ]
    },
    {
      "cell_type": "markdown",
      "source": [
        "Por ejemplo, si queremos que un código muestre todos los números pares del 900 al 1000, tenemos:"
      ],
      "metadata": {
        "id": "l0Jan_9Y7mrC"
      }
    },
    {
      "cell_type": "code",
      "source": [
        "for i in range(900, 1000, 2):\n",
        "    print(i)"
      ],
      "metadata": {
        "colab": {
          "base_uri": "https://localhost:8080/"
        },
        "id": "tw2P0KwpI2vX",
        "outputId": "f333165a-b4fe-4db3-8fd5-94fa75630f14"
      },
      "execution_count": null,
      "outputs": [
        {
          "output_type": "stream",
          "name": "stdout",
          "text": [
            "900\n",
            "902\n",
            "904\n",
            "906\n",
            "908\n",
            "910\n",
            "912\n",
            "914\n",
            "916\n",
            "918\n",
            "920\n",
            "922\n",
            "924\n",
            "926\n",
            "928\n",
            "930\n",
            "932\n",
            "934\n",
            "936\n",
            "938\n",
            "940\n",
            "942\n",
            "944\n",
            "946\n",
            "948\n",
            "950\n",
            "952\n",
            "954\n",
            "956\n",
            "958\n",
            "960\n",
            "962\n",
            "964\n",
            "966\n",
            "968\n",
            "970\n",
            "972\n",
            "974\n",
            "976\n",
            "978\n",
            "980\n",
            "982\n",
            "984\n",
            "986\n",
            "988\n",
            "990\n",
            "992\n",
            "994\n",
            "996\n",
            "998\n"
          ]
        }
      ]
    },
    {
      "cell_type": "markdown",
      "source": [
        "Podemos ver como imprimió hasta 998 (como se mostró, tomamos hasta un número antes; si queremos incluir 1000, debe ser al menos hasta 1001).\n"
      ],
      "metadata": {
        "id": "tj6zSb2M7zLL"
      }
    },
    {
      "cell_type": "markdown",
      "source": [
        "Podemos aprovechar los argumentos predeterminados de la función range() para el siguiente ejemplo, donde tomamos los números del 0 al 10000 y contamos todos los que son múltiplos de 33."
      ],
      "metadata": {
        "id": "bINzUaMU8NXL"
      }
    },
    {
      "cell_type": "code",
      "source": [
        "counter = 0\n",
        "\n",
        "for i in range(10000):\n",
        "    if (i % 33 == 0): # residual == 0?\n",
        "        counter += 1\n",
        "\n",
        "#show counter\n",
        "print(counter)"
      ],
      "metadata": {
        "colab": {
          "base_uri": "https://localhost:8080/"
        },
        "id": "r7trlV1HAl0x",
        "outputId": "956dea70-4c2e-4553-9765-c5bd6d7b514d"
      },
      "execution_count": null,
      "outputs": [
        {
          "output_type": "stream",
          "name": "stdout",
          "text": [
            "304\n"
          ]
        }
      ]
    },
    {
      "cell_type": "markdown",
      "source": [
        "Los bucles For se utilizan por excelencia para recorrer arrays, listas o matrices, ya que sus dimensiones son valores fijos y permiten iterar sus elementos a voluntad."
      ],
      "metadata": {
        "id": "ged0cwjO8xCh"
      }
    },
    {
      "cell_type": "code",
      "source": [
        "a = [8, 10, 23, 17, 15] #list of numbers\n",
        "\n",
        "for i in range(len(a)):\n",
        "  print(a[i])"
      ],
      "metadata": {
        "colab": {
          "base_uri": "https://localhost:8080/"
        },
        "id": "0o0S2rWrCiQ_",
        "outputId": "13e61c36-d72f-4a6c-8909-07ce319b0d94"
      },
      "execution_count": null,
      "outputs": [
        {
          "output_type": "stream",
          "name": "stdout",
          "text": [
            "8\n",
            "10\n",
            "23\n",
            "17\n",
            "15\n"
          ]
        }
      ]
    },
    {
      "cell_type": "markdown",
      "source": [
        "Es importante notar cómo len(a) devuelve el número de elementos, pero en Python, el índice va desde cero, es por eso que se imprimieron todos los elementos. Veamos la diferencia:"
      ],
      "metadata": {
        "id": "izZJYSAT9ojn"
      }
    },
    {
      "cell_type": "code",
      "source": [
        "len(a)"
      ],
      "metadata": {
        "colab": {
          "base_uri": "https://localhost:8080/"
        },
        "id": "bQtDFIsyDTMz",
        "outputId": "be09cfbe-81ca-44ce-a8ac-0371a95a9b6d"
      },
      "execution_count": null,
      "outputs": [
        {
          "output_type": "execute_result",
          "data": {
            "text/plain": [
              "5"
            ]
          },
          "metadata": {},
          "execution_count": 6
        }
      ]
    },
    {
      "cell_type": "code",
      "source": [
        "for i in range(4):\n",
        "  print(a[i])"
      ],
      "metadata": {
        "colab": {
          "base_uri": "https://localhost:8080/"
        },
        "id": "cHLdaslmDL12",
        "outputId": "7b272356-882a-4ab6-b773-d4f77e770f89"
      },
      "execution_count": null,
      "outputs": [
        {
          "output_type": "stream",
          "name": "stdout",
          "text": [
            "8\n",
            "10\n",
            "23\n",
            "17\n"
          ]
        }
      ]
    },
    {
      "cell_type": "code",
      "source": [
        "for i in range(5):\n",
        "  print(a[i])"
      ],
      "metadata": {
        "colab": {
          "base_uri": "https://localhost:8080/"
        },
        "id": "h2v8nwl3DQ4j",
        "outputId": "94e2043e-ee1d-415b-a31a-baa25bfb7895"
      },
      "execution_count": null,
      "outputs": [
        {
          "output_type": "stream",
          "name": "stdout",
          "text": [
            "8\n",
            "10\n",
            "23\n",
            "17\n",
            "15\n"
          ]
        }
      ]
    },
    {
      "cell_type": "markdown",
      "source": [
        "Luego, como tenemos condicionales anidados, también podemos tener bucles anidados, donde cada iteración de los bucles externos constituye una iteración completa del bucle interno. Combinándolo con lo dicho antes, veamos un ejemplo con una matriz (lista de listas):"
      ],
      "metadata": {
        "id": "50Zi69eu96KX"
      }
    },
    {
      "cell_type": "code",
      "source": [
        "M = [[1,3,4],[5,6,7],[8,9,2]]\n",
        "M"
      ],
      "metadata": {
        "colab": {
          "base_uri": "https://localhost:8080/"
        },
        "id": "MSXwFy5vDXqR",
        "outputId": "878e0e33-205c-48d2-8d45-6122583474a5"
      },
      "execution_count": null,
      "outputs": [
        {
          "output_type": "execute_result",
          "data": {
            "text/plain": [
              "[[1, 3, 4], [5, 6, 7], [8, 9, 2]]"
            ]
          },
          "metadata": {},
          "execution_count": 7
        }
      ]
    },
    {
      "cell_type": "code",
      "source": [
        "for i in range(3): # Rows\n",
        "  for j in range(3): # Columns\n",
        "    print(\"Row \" + str(i) + \", Column \" + str(j) + \": \" + str(M[i][j]))"
      ],
      "metadata": {
        "colab": {
          "base_uri": "https://localhost:8080/"
        },
        "id": "A6PWVZ4tDwdR",
        "outputId": "cebad9d3-22d1-4067-bdb7-a68df4602d5a"
      },
      "execution_count": null,
      "outputs": [
        {
          "output_type": "stream",
          "name": "stdout",
          "text": [
            "Row 0, Column 0: 1\n",
            "Row 0, Column 1: 3\n",
            "Row 0, Column 2: 4\n",
            "Row 1, Column 0: 5\n",
            "Row 1, Column 1: 6\n",
            "Row 1, Column 2: 7\n",
            "Row 2, Column 0: 8\n",
            "Row 2, Column 1: 9\n",
            "Row 2, Column 2: 2\n"
          ]
        }
      ]
    },
    {
      "cell_type": "markdown",
      "source": [
        "# Ejemplos\n",
        "\n",
        "Escriba un programa que imprima los números del 1 al 100, pero para múltiplos de tres, imprima \"Fizz\" en lugar del número, y para múltiplos de cinco, imprima \"Buzz\".\n",
        "\n",
        "Para números que son múltiplos de tres y cinco, imprima \"FizzBuzz\""
      ],
      "metadata": {
        "id": "IzPHUa_v6ISP"
      }
    },
    {
      "cell_type": "code",
      "source": [
        "for i in range(1, 101):\n",
        "    if i % 3 == 0 and i % 5 == 0: #and operator included\n",
        "        print(\"FizzBuzz\")\n",
        "    elif i % 3 == 0:\n",
        "        print(\"Fizz\")\n",
        "    elif i % 5 == 0:\n",
        "        print(\"Buzz\")\n",
        "    else:\n",
        "        print(i)"
      ],
      "metadata": {
        "colab": {
          "base_uri": "https://localhost:8080/"
        },
        "id": "o81STarR6X0W",
        "outputId": "ebae7b6f-c2cd-4b35-b7ff-29ad28328e5b"
      },
      "execution_count": null,
      "outputs": [
        {
          "output_type": "stream",
          "name": "stdout",
          "text": [
            "1\n",
            "2\n",
            "Fizz\n",
            "4\n",
            "Buzz\n",
            "Fizz\n",
            "7\n",
            "8\n",
            "Fizz\n",
            "Buzz\n",
            "11\n",
            "Fizz\n",
            "13\n",
            "14\n",
            "FizzBuzz\n",
            "16\n",
            "17\n",
            "Fizz\n",
            "19\n",
            "Buzz\n",
            "Fizz\n",
            "22\n",
            "23\n",
            "Fizz\n",
            "Buzz\n",
            "26\n",
            "Fizz\n",
            "28\n",
            "29\n",
            "FizzBuzz\n",
            "31\n",
            "32\n",
            "Fizz\n",
            "34\n",
            "Buzz\n",
            "Fizz\n",
            "37\n",
            "38\n",
            "Fizz\n",
            "Buzz\n",
            "41\n",
            "Fizz\n",
            "43\n",
            "44\n",
            "FizzBuzz\n",
            "46\n",
            "47\n",
            "Fizz\n",
            "49\n",
            "Buzz\n",
            "Fizz\n",
            "52\n",
            "53\n",
            "Fizz\n",
            "Buzz\n",
            "56\n",
            "Fizz\n",
            "58\n",
            "59\n",
            "FizzBuzz\n",
            "61\n",
            "62\n",
            "Fizz\n",
            "64\n",
            "Buzz\n",
            "Fizz\n",
            "67\n",
            "68\n",
            "Fizz\n",
            "Buzz\n",
            "71\n",
            "Fizz\n",
            "73\n",
            "74\n",
            "FizzBuzz\n",
            "76\n",
            "77\n",
            "Fizz\n",
            "79\n",
            "Buzz\n",
            "Fizz\n",
            "82\n",
            "83\n",
            "Fizz\n",
            "Buzz\n",
            "86\n",
            "Fizz\n",
            "88\n",
            "89\n",
            "FizzBuzz\n",
            "91\n",
            "92\n",
            "Fizz\n",
            "94\n",
            "Buzz\n",
            "Fizz\n",
            "97\n",
            "98\n",
            "Fizz\n",
            "Buzz\n"
          ]
        }
      ]
    },
    {
      "cell_type": "markdown",
      "source": [
        "Escriba un programa que solicite al usuario que ingrese un número entero positivo y luego calcule la suma de todos los números enteros desde 1 hasta el número ingresado."
      ],
      "metadata": {
        "id": "kTLG_SFk6hGE"
      }
    },
    {
      "cell_type": "code",
      "source": [
        "num = int(input(\"Enter a positive integer: \"))\n",
        "sum = 0\n",
        "\n",
        "# check if num is positive\n",
        "if num <= 0:\n",
        "    print(\"Invalid input! Please enter a positive integer.\")\n",
        "else:\n",
        "    # calculate the sum of integers from 1 to num\n",
        "    for i in range(1, num+1):\n",
        "        sum += i\n",
        "\n",
        "    print(\"The sum of integers from 1 to {} is: {}\".format(num, sum))"
      ],
      "metadata": {
        "colab": {
          "base_uri": "https://localhost:8080/"
        },
        "id": "Ap2lBO_u6sO4",
        "outputId": "24e903f6-4260-4ec1-cffa-563f3e7ec507"
      },
      "execution_count": null,
      "outputs": [
        {
          "output_type": "stream",
          "name": "stdout",
          "text": [
            "Enter a positive integer: 6\n",
            "The sum of integers from 1 to 6 is: 21\n"
          ]
        }
      ]
    },
    {
      "cell_type": "markdown",
      "source": [
        "Genera un número aleatorio entre 1 y 100 y solicita al usuario que adivine el número.\n",
        "\n",
        "Si la suposición es demasiado alta, el programa debería imprimir \"Demasiado alto\", si la suposición es demasiado baja, el programa debería imprimir \"Demasiado bajo\" y si la suposición es correcta, el programa debería imprimir \"¡Felicitaciones!\" y salir del bucle:"
      ],
      "metadata": {
        "id": "Zmbmyj986zo5"
      }
    },
    {
      "cell_type": "code",
      "source": [
        "import random\n",
        "\n",
        "# generate a random number between 1 and 100\n",
        "num = random.randint(1, 100)\n",
        "\n",
        "# loop until the user guesses the number\n",
        "while True:\n",
        "    guess = int(input(\"Guess the number (between 1 and 100): \"))\n",
        "\n",
        "    # check if the guess is correct\n",
        "    if guess == num:\n",
        "        print(\"Congratulations! You guessed the number.\")\n",
        "        break\n",
        "\n",
        "    # check if the guess is too high\n",
        "    elif guess > num:\n",
        "        print(\"Too high! Guess again.\")\n",
        "\n",
        "    # check if the guess is too low\n",
        "    else:\n",
        "        print(\"Too low! Guess again.\")"
      ],
      "metadata": {
        "colab": {
          "base_uri": "https://localhost:8080/"
        },
        "id": "Z4W-qRsg652N",
        "outputId": "8be3cf87-88c1-4b34-c361-be994d999ff4"
      },
      "execution_count": null,
      "outputs": [
        {
          "output_type": "stream",
          "name": "stdout",
          "text": [
            "Guess the number (between 1 and 100): 50\n",
            "Too low! Guess again.\n",
            "Guess the number (between 1 and 100): 80\n",
            "Too low! Guess again.\n",
            "Guess the number (between 1 and 100): 90\n",
            "Too low! Guess again.\n",
            "Guess the number (between 1 and 100): 20\n",
            "Too low! Guess again.\n",
            "Guess the number (between 1 and 100): 1\n",
            "Too low! Guess again.\n",
            "Guess the number (between 1 and 100): 99\n",
            "Congratulations! You guessed the number.\n"
          ]
        }
      ]
    },
    {
      "cell_type": "markdown",
      "source": [
        "Escriba un programa que genere una tabla de multiplicar para todos los números entre 1 y 10. (consulte el método [.format()](https://www.geeksforgeeks.org/python-string-format-method/))"
      ],
      "metadata": {
        "id": "m-YEl-Mu7MWR"
      }
    },
    {
      "cell_type": "code",
      "source": [
        "for i in range(1, 11):\n",
        "    for j in range(1, 11):\n",
        "        print(\"{:4d}\".format(i*j), end=\"\")\n",
        "    print()"
      ],
      "metadata": {
        "colab": {
          "base_uri": "https://localhost:8080/"
        },
        "id": "RkhTLaiO7o76",
        "outputId": "c361bfce-27d5-43e5-855c-265b2b12d9c6"
      },
      "execution_count": null,
      "outputs": [
        {
          "output_type": "stream",
          "name": "stdout",
          "text": [
            "   1   2   3   4   5   6   7   8   9  10\n",
            "   2   4   6   8  10  12  14  16  18  20\n",
            "   3   6   9  12  15  18  21  24  27  30\n",
            "   4   8  12  16  20  24  28  32  36  40\n",
            "   5  10  15  20  25  30  35  40  45  50\n",
            "   6  12  18  24  30  36  42  48  54  60\n",
            "   7  14  21  28  35  42  49  56  63  70\n",
            "   8  16  24  32  40  48  56  64  72  80\n",
            "   9  18  27  36  45  54  63  72  81  90\n",
            "  10  20  30  40  50  60  70  80  90 100\n"
          ]
        }
      ]
    },
    {
      "cell_type": "markdown",
      "source": [
        "## Ejecicio 1\n",
        "\n",
        "Escriba un código que le solicite al usuario que ingrese un número entero cada vez, y el proceso se repetirá con más números hasta que el usuario ingrese un cero.\n",
        "\n",
        "Al final (cuando se ingresa el cero), muestra la cantidad de números ingresados."
      ],
      "metadata": {
        "id": "6cEQ4HEN4ODA"
      }
    },
    {
      "cell_type": "code",
      "source": [
        "total_numeros = [] #creamos una lista donde vamos a almacenar los enteros\n",
        "\n",
        "while True:\n",
        "    num_entero = int(input('Por favor ingrese un número entero (ingrese 0 para terminar): '))\n",
        "\n",
        "    if num_entero == 0:\n",
        "        break  # Si el número ingresado es 0, el programa termina\n",
        "\n",
        "    total_numeros.append(num_entero)\n",
        "\n",
        "\n",
        "# Al final, se muestra la lista completa\n",
        "print('Fin del programa.')\n",
        "print('Los números ingresados fueron:', total_numeros)\n"
      ],
      "metadata": {
        "colab": {
          "base_uri": "https://localhost:8080/"
        },
        "id": "FHUWK0IaUzu3",
        "outputId": "2d4ae187-79ae-47bc-ef58-33f4bc7215b9"
      },
      "execution_count": null,
      "outputs": [
        {
          "output_type": "stream",
          "name": "stdout",
          "text": [
            "Por favor ingrese un número entero (ingrese 0 para terminar): 4\n",
            "Por favor ingrese un número entero (ingrese 0 para terminar): 3\n",
            "Por favor ingrese un número entero (ingrese 0 para terminar): 5\n",
            "Por favor ingrese un número entero (ingrese 0 para terminar): 0\n",
            "Fin del programa.\n",
            "Los números ingresados fueron: [4, 3, 5]\n"
          ]
        }
      ]
    },
    {
      "cell_type": "markdown",
      "source": [
        "## Ejercicio 2\n",
        "Utilice la función input() para pedirle al usuario que ingrese un número entero. Sólo si el número es par se acumulará.\n",
        "\n",
        "El programa debe finalizar si la suma de los números supera 50 o si el usuario introduce un máximo de 10 números."
      ],
      "metadata": {
        "id": "8s-BFauy5BkM"
      }
    },
    {
      "cell_type": "code",
      "source": [
        "print('Bienvenido al programa.')\n",
        "lista1 = []\n",
        "\n",
        "while True:\n",
        "    num1 = int(input('por favor ingrese un número entero(ingrese 0 para terminar): '))\n",
        "    if num1 == 0:\n",
        "        break\n",
        "    if num1 % 2 == 0:\n",
        "      lista1.append(num1)\n",
        "    if sum(lista1) > 50 or len(lista1) >= 10:\n",
        "        break\n",
        "\n",
        "print('Fin del programa.')\n",
        "print('Los números pares ingresados fueron: ', lista1)"
      ],
      "metadata": {
        "colab": {
          "base_uri": "https://localhost:8080/"
        },
        "id": "i5WVqgKudMhc",
        "outputId": "b873c04c-b578-48a3-c678-da95b200fb22"
      },
      "execution_count": null,
      "outputs": [
        {
          "output_type": "stream",
          "name": "stdout",
          "text": [
            "Bienvenido al programa.\n",
            "por favor ingrese un número entero(ingrese 0 para terminar): 4\n",
            "por favor ingrese un número entero(ingrese 0 para terminar): 2\n",
            "por favor ingrese un número entero(ingrese 0 para terminar): 6\n",
            "por favor ingrese un número entero(ingrese 0 para terminar): 4\n",
            "por favor ingrese un número entero(ingrese 0 para terminar): 2\n",
            "por favor ingrese un número entero(ingrese 0 para terminar): 2\n",
            "por favor ingrese un número entero(ingrese 0 para terminar): 2\n",
            "por favor ingrese un número entero(ingrese 0 para terminar): 8\n",
            "por favor ingrese un número entero(ingrese 0 para terminar): 6\n",
            "por favor ingrese un número entero(ingrese 0 para terminar): 4\n",
            "Fin del programa.\n",
            "Los números pares ingresados fueron:  [4, 2, 6, 4, 2, 2, 2, 8, 6, 4]\n"
          ]
        }
      ]
    },
    {
      "cell_type": "markdown",
      "source": [
        "2Developed by:\n",
        "\n",
        "- Brian Patino Agudelo - bpatinoa@unal.edu.co\n",
        "\n",
        "- Andrés Marino Álvarez Meza - amalvarezme@unal.edu.co\n",
        "\n",
        "- César Germán Castellanos Domínguez - cgcastellanosd@unal.edu.co"
      ],
      "metadata": {
        "id": "wcgoiWX_4nwL"
      }
    },
    {
      "cell_type": "code",
      "source": [],
      "metadata": {
        "id": "glUOgM5V4ed2"
      },
      "execution_count": null,
      "outputs": []
    }
  ]
}